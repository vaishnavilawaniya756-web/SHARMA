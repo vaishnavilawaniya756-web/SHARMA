{
  "nbformat": 4,
  "nbformat_minor": 0,
  "metadata": {
    "colab": {
      "provenance": [],
      "authorship_tag": "ABX9TyPVTE4PoyJ/PDptVEFI9Bki",
      "include_colab_link": true
    },
    "kernelspec": {
      "name": "python3",
      "display_name": "Python 3"
    },
    "language_info": {
      "name": "python"
    }
  },
  "cells": [
    {
      "cell_type": "markdown",
      "metadata": {
        "id": "view-in-github",
        "colab_type": "text"
      },
      "source": [
        "<a href=\"https://colab.research.google.com/github/vaishnavilawaniya756-web/SHARMA/blob/main/vaishnavi.ipynb\" target=\"_parent\"><img src=\"https://colab.research.google.com/assets/colab-badge.svg\" alt=\"Open In Colab\"/></a>"
      ]
    },
    {
      "cell_type": "code",
      "execution_count": 1,
      "metadata": {
        "colab": {
          "base_uri": "https://localhost:8080/"
        },
        "id": "glZtjQrRE6v2",
        "outputId": "708d4989-388b-4baa-de0e-689d3151e02a"
      },
      "outputs": [
        {
          "output_type": "stream",
          "name": "stdout",
          "text": [
            "HELLO, MY NAME IS VAISHNAVI.\n"
          ]
        }
      ],
      "source": [
        "print(\"HELLO, MY NAME IS VAISHNAVI.\")"
      ]
    },
    {
      "cell_type": "code",
      "source": [
        "#biodata\n",
        "print(\"Name:  Vaishnavi Sharma\")\n",
        "print(\"date of birth:  30-05-2001\")\n",
        "print(\"Age:  24\")\n",
        "print(\"Qualification:  M.COM\")\n",
        "print(\"College:  BRAU\")\n",
        "print(\"Skill:  pursuing data analyst\")\n",
        "print(\"Mobile_no.  7302080109\")\n",
        "print(\"email address:  vaishnavilawaniya756@gmail.com\")\n",
        "print(\"address:  shonkh adda, goverdhan,mathura\")\n",
        "print(\"language known:  hindi and english\")\n",
        "print(\"marital status:  single\")\n",
        "print(\"nationality:  indian\")\n",
        "print(\"Father Name:  Sanjay Sharma\")\n",
        "print(\"Mother Name:  priyanka Sharma\")\n",
        "print(\"Hobbies:  singing,calligraphy and playing badminton\")"
      ],
      "metadata": {
        "colab": {
          "base_uri": "https://localhost:8080/"
        },
        "id": "imVbg7hkG27w",
        "outputId": "772fbbac-9377-4e56-b3d3-f3fcb4cf8cef"
      },
      "execution_count": null,
      "outputs": [
        {
          "output_type": "stream",
          "name": "stdout",
          "text": [
            "Name:  Vaishnavi Sharma\n",
            "date of birth:  30-05-2001\n",
            "Age:  24\n",
            "Qualification:  M.COM\n",
            "College:  BRAU\n",
            "Skill:  pursuing data analyst\n",
            "Mobile_no.  7302080109\n",
            "email address:  vaishnavilawaniya756@gmail.com\n",
            "address:  shonkh adda, goverdhan,mathura\n",
            "language known:  hindi and english\n",
            "marital status:  single\n",
            "nationality:  indian\n",
            "Father Name:  Sanjay Sharma\n",
            "Mother Name:  priyanka Sharma\n",
            "Hobbies:  singing,calligraphy and playing badminton\n"
          ]
        }
      ]
    },
    {
      "cell_type": "code",
      "source": [
        "name= \"vaishnavi\"\n",
        "print(\"name\",name)"
      ],
      "metadata": {
        "colab": {
          "base_uri": "https://localhost:8080/"
        },
        "id": "FjDJKM9oKWnv",
        "outputId": "a5901518-59cc-4e0f-f91e-a37d0fb05f23"
      },
      "execution_count": null,
      "outputs": [
        {
          "output_type": "stream",
          "name": "stdout",
          "text": [
            "name vaishnavi\n"
          ]
        }
      ]
    },
    {
      "cell_type": "code",
      "source": [
        "hobbies=\"singing,calligraphy and playing badminton\"\n",
        "print(\"hobbies\",hobbies)\n"
      ],
      "metadata": {
        "colab": {
          "base_uri": "https://localhost:8080/"
        },
        "id": "JcoibAN2KmWm",
        "outputId": "0ee4fa2e-6352-492a-9e41-1dbc59a3d610"
      },
      "execution_count": null,
      "outputs": [
        {
          "output_type": "stream",
          "name": "stdout",
          "text": [
            "hobbies singing,calligraphy and playing badminton\n"
          ]
        }
      ]
    },
    {
      "cell_type": "code",
      "source": [
        "how_are_you= \"i am fine\"\n",
        "print(\"how_are_you\",how_are_you)\n"
      ],
      "metadata": {
        "colab": {
          "base_uri": "https://localhost:8080/"
        },
        "id": "kg_lhX8CL7Fl",
        "outputId": "5f07951d-0736-4fc2-f385-6e3ea52744ad"
      },
      "execution_count": null,
      "outputs": [
        {
          "output_type": "stream",
          "name": "stdout",
          "text": [
            "how_are_you i am fine\n"
          ]
        }
      ]
    },
    {
      "cell_type": "code",
      "source": [
        "first_number=52\n",
        "second_number=50\n",
        "sum=first_number+second_number\n",
        "print(\"sum:\",sum)\n",
        "sub=first_number-second_number\n",
        "print(\"sub:\" ,sub)"
      ],
      "metadata": {
        "colab": {
          "base_uri": "https://localhost:8080/"
        },
        "id": "H4-lOnIUHjRO",
        "outputId": "916e9d56-6d23-4134-ea12-bdeb440f033f"
      },
      "execution_count": 4,
      "outputs": [
        {
          "output_type": "stream",
          "name": "stdout",
          "text": [
            "sum: 102\n",
            "sub: 2\n"
          ]
        }
      ]
    },
    {
      "cell_type": "code",
      "source": [
        "name=\"vaishnavi sharma\"\n",
        "print(name)\n",
        "passion=\"singing\"\n",
        "print(passion)"
      ],
      "metadata": {
        "colab": {
          "base_uri": "https://localhost:8080/"
        },
        "id": "q4lYBdKDIPal",
        "outputId": "9dbf72c5-84ca-4e6b-f329-793af0af0474"
      },
      "execution_count": 7,
      "outputs": [
        {
          "output_type": "stream",
          "name": "stdout",
          "text": [
            "vaishnavi sharma\n",
            "singing\n"
          ]
        }
      ]
    },
    {
      "cell_type": "code",
      "source": [
        "marks=int(input(\"marks\"))\n",
        "if marks==90 or marks==95:\n",
        "  print(\"excellent\")\n",
        "elif marks==80 or marks==85:\n",
        "  print(\"a+\")\n",
        "else:\n",
        "  print(\"pass\")\n"
      ],
      "metadata": {
        "colab": {
          "base_uri": "https://localhost:8080/"
        },
        "id": "jw5daDinIl8a",
        "outputId": "026a7879-6d38-4365-b893-abf034c25aff"
      },
      "execution_count": 9,
      "outputs": [
        {
          "output_type": "stream",
          "name": "stdout",
          "text": [
            "marks85\n",
            "a+\n"
          ]
        }
      ]
    },
    {
      "cell_type": "code",
      "source": [
        "marks=int(input(\"marks_\"))\n",
        "grade=input(\"grade=\")\n",
        "if marks>90 and grade==\"a\":\n",
        " print(\"excellent\")\n",
        "else:\n",
        "  print(\"pass\")\n",
        "\n"
      ],
      "metadata": {
        "colab": {
          "base_uri": "https://localhost:8080/"
        },
        "id": "uLzA1WQTKN_D",
        "outputId": "251e6565-c152-443a-acdd-330d07919f13"
      },
      "execution_count": 17,
      "outputs": [
        {
          "output_type": "stream",
          "name": "stdout",
          "text": [
            "marks_98\n",
            "grade=b\n",
            "pass\n"
          ]
        }
      ]
    },
    {
      "cell_type": "code",
      "source": [
        "month=input(\"month_ \")\n",
        "if month==\"january\" or month==\"march\" or month==\"may\" or month==\"july\" or month==\"august\" or month==\"october\" or month==\"december\":\n",
        "  print(31)\n",
        "elif month==\"april\" or month==\"june\" or month==\"september\" or month==\"november\":\n",
        "  print(30)\n",
        "else:\n",
        "  print(28)\n"
      ],
      "metadata": {
        "colab": {
          "base_uri": "https://localhost:8080/"
        },
        "id": "yRj4nZcqLWJb",
        "outputId": "844e9c9e-b59e-4e26-9237-d53232b9b816"
      },
      "execution_count": 18,
      "outputs": [
        {
          "output_type": "stream",
          "name": "stdout",
          "text": [
            "month_ august\n",
            "31\n"
          ]
        }
      ]
    },
    {
      "cell_type": "code",
      "source": [
        "month=input(\"month_ \")\n",
        "if month==\"january\" or month==\"march\" or month==\"may\" or month==\"july\" or month==\"august\" or month==\"october\" or month==\"december\":\n",
        "  days_in_month=31\n",
        "elif month==\"april\" or month==\"june\" or month==\"september\" or month==\"november\":\n",
        "  days_in_month=30\n",
        "else:\n",
        "  days_in_month=28\n",
        "print(\"days-\",days_in_month)"
      ],
      "metadata": {
        "colab": {
          "base_uri": "https://localhost:8080/"
        },
        "id": "yUERPkI3RRbA",
        "outputId": "03837923-c386-4917-f6f7-073673870f98"
      },
      "execution_count": 22,
      "outputs": [
        {
          "output_type": "stream",
          "name": "stdout",
          "text": [
            "month_ april\n",
            "days- 30\n"
          ]
        }
      ]
    },
    {
      "cell_type": "code",
      "source": [
        "hotel=input(\"hotel_ \")\n",
        "net_worth=int(input(\"net worth: \"))\n",
        "if hotel==\"taj\":\n",
        "  print(\"beautiful\")\n",
        "  if net_worth>=200000:\n",
        "    print(\"expensive\")\n",
        "  else:\n",
        "    print(\"cheap\")\n",
        "else:\n",
        "  print(\"decent\")\n",
        "  if net_worth>=200000:\n",
        "     print(\"expensive\")\n",
        "  else:\n",
        "    print(\"cheap\")\n",
        "\n"
      ],
      "metadata": {
        "id": "wHjyTsdqUXSC",
        "outputId": "6bb73cab-b0e1-4ed2-cf02-785b2a00f7fa",
        "colab": {
          "base_uri": "https://localhost:8080/"
        }
      },
      "execution_count": 25,
      "outputs": [
        {
          "output_type": "stream",
          "name": "stdout",
          "text": [
            "hotel_ taj\n",
            "net worth: 500000\n",
            "beautiful\n",
            "expensive\n"
          ]
        }
      ]
    },
    {
      "cell_type": "code",
      "source": [
        "principal=int(input(\"principal: \"))\n",
        "rate=int(input(\"rate: \"))\n",
        "time=int(input(\"time: \"))\n",
        "amount=(principal*rate*time)/100\n",
        "print(amount)"
      ],
      "metadata": {
        "id": "R7LtqB5bYMCw",
        "outputId": "c5fcc5be-27df-4e02-8779-01e87c34d80e",
        "colab": {
          "base_uri": "https://localhost:8080/"
        }
      },
      "execution_count": 1,
      "outputs": [
        {
          "output_type": "stream",
          "name": "stdout",
          "text": [
            "principal: 40000\n",
            "rate: 10\n",
            "time: 9\n",
            "36000.0\n"
          ]
        }
      ]
    },
    {
      "cell_type": "code",
      "source": [
        "principal=40000\n",
        "rate=10\n",
        "time_in_month=8\n",
        "days=20\n",
        "day_in_month=days/30\n",
        "amount=(principal*rate*time_in_month)/100\n",
        "si=principal*rate*time_in_month*day_in_month/100\n",
        "print(amount)\n",
        "print(si)\n",
        "print(amount+si)"
      ],
      "metadata": {
        "id": "Ww43EXjSbYgx",
        "outputId": "b02c0cac-21fb-444d-aed5-b5f9d94e6ff8",
        "colab": {
          "base_uri": "https://localhost:8080/"
        }
      },
      "execution_count": 2,
      "outputs": [
        {
          "output_type": "stream",
          "name": "stdout",
          "text": [
            "32000.0\n",
            "21333.33333333333\n",
            "53333.33333333333\n"
          ]
        }
      ]
    },
    {
      "cell_type": "code",
      "source": [
        "principal=40000\n",
        "rate=10\n",
        "month=\"july\"\n",
        "print(month)\n",
        "if month==\"january\" or month==\"march\" or month==\"may\" or month==\"july\" or month==\"august\" or month==\"october\" or month==\"december\":\n",
        "  days_in_month=31\n",
        "elif month==\"april\" or month==\"june\" or month==\"september\" or month==\"november\":\n",
        "  days_in_month=30\n",
        "else:\n",
        "  days_in_month=28\n",
        "time_in_month=8\n",
        "days=20\n",
        "total_time=days/days_in_month\n",
        "amount=(principal*rate*time_in_month)/100\n",
        "si=principal*rate*time_in_month*total_time/100\n",
        "print(amount)\n",
        "print(si)\n",
        "print(amount+si)"
      ],
      "metadata": {
        "id": "tmjIzpsMcgio",
        "outputId": "1a8612c7-1445-440b-add7-2065e2a37b08",
        "colab": {
          "base_uri": "https://localhost:8080/"
        }
      },
      "execution_count": 7,
      "outputs": [
        {
          "output_type": "stream",
          "name": "stdout",
          "text": [
            "july\n",
            "32000.0\n",
            "20645.16129032258\n",
            "52645.161290322576\n"
          ]
        }
      ]
    }
  ]
}