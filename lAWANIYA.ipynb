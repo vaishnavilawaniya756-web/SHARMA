{
  "nbformat": 4,
  "nbformat_minor": 0,
  "metadata": {
    "colab": {
      "provenance": [],
      "authorship_tag": "ABX9TyMTEkmGb3Jfpqne00UNmOBc",
      "include_colab_link": true
    },
    "kernelspec": {
      "name": "python3",
      "display_name": "Python 3"
    },
    "language_info": {
      "name": "python"
    }
  },
  "cells": [
    {
      "cell_type": "markdown",
      "metadata": {
        "id": "view-in-github",
        "colab_type": "text"
      },
      "source": [
        "<a href=\"https://colab.research.google.com/github/vaishnavilawaniya756-web/SHARMA/blob/main/lAWANIYA.ipynb\" target=\"_parent\"><img src=\"https://colab.research.google.com/assets/colab-badge.svg\" alt=\"Open In Colab\"/></a>"
      ]
    },
    {
      "cell_type": "code",
      "execution_count": null,
      "metadata": {
        "colab": {
          "base_uri": "https://localhost:8080/"
        },
        "id": "fTjQFk-_IMSu",
        "outputId": "81585f41-ef7b-4c10-a0f8-2fc1f6e8bcf0"
      },
      "outputs": [
        {
          "output_type": "stream",
          "name": "stdout",
          "text": [
            "30\n"
          ]
        }
      ],
      "source": [
        "first_number=10\n",
        "second_number=20\n",
        "print(first_number+second_number)"
      ]
    },
    {
      "cell_type": "code",
      "source": [
        "first_number=50\n",
        "second_number=60\n",
        "third_number=70\n",
        "sum=first_number+second_number+third_number\n",
        "print(\"sum: \",sum)\n",
        "print(\"______\")\n",
        "subtract=first_number-second_number-third_number\n",
        "print(\"sub: \",subtract)\n",
        "\n"
      ],
      "metadata": {
        "id": "x8t6Nd6ybVp4",
        "outputId": "7337a49a-1904-4855-ea0c-fddbb611076f",
        "colab": {
          "base_uri": "https://localhost:8080/"
        }
      },
      "execution_count": null,
      "outputs": [
        {
          "output_type": "stream",
          "name": "stdout",
          "text": [
            "sum:  180\n",
            "______\n",
            "sub:  -80\n"
          ]
        }
      ]
    },
    {
      "cell_type": "code",
      "source": [
        "number1=int(input(\"first number\"))\n",
        "number2=int(input(\"second number\"))\n",
        "total=number1+number2\n",
        "print(total)"
      ],
      "metadata": {
        "id": "t9IjMG48chkY",
        "outputId": "30463c36-696d-42e3-c4c2-6261cafeed5e",
        "colab": {
          "base_uri": "https://localhost:8080/"
        }
      },
      "execution_count": null,
      "outputs": [
        {
          "output_type": "stream",
          "name": "stdout",
          "text": [
            "first number20\n",
            "second number30\n",
            "50\n"
          ]
        }
      ]
    },
    {
      "cell_type": "code",
      "source": [
        "a=500\n",
        "b=100\n",
        "sum=a+b\n",
        "print(\"sum =\",sum)\n",
        "sub=a-b\n",
        "print(\"sub =\",sub)\n",
        "multiply=a*b\n",
        "print(\"multiply =\",multiply)\n",
        "divide=a/b\n",
        "print(\"divide =\",divide)"
      ],
      "metadata": {
        "colab": {
          "base_uri": "https://localhost:8080/"
        },
        "id": "b83fju0FKSj5",
        "outputId": "67ee9fbc-3d75-4d4e-df6f-d4e137e17792"
      },
      "execution_count": null,
      "outputs": [
        {
          "output_type": "stream",
          "name": "stdout",
          "text": [
            "sum = 600\n",
            "sub = 400\n",
            "multiply = 50000\n",
            "divide = 5.0\n"
          ]
        }
      ]
    },
    {
      "cell_type": "code",
      "source": [
        "#restaurant billing project\n",
        "item1=\"pizza\"\n",
        "price_of_item1=500\n",
        "item2=\"burger\"\n",
        "price_of_item2=100\n",
        "item3=\"coke\"\n",
        "price_of_item3=80\n",
        "item4=\"cold_coffee\"\n",
        "price_of_item4=200\n",
        "item5=\"fries\"\n",
        "price_of_item5=120\n",
        "discount_on_pizza=50\n",
        "discount_on_burger=10\n",
        "discount_on_coke=8\n",
        "discount_on_cold_coffee=20\n",
        "discount_on_fries=12\n",
        "name=\"vaishnavi\"\n",
        "house_no=3345\n",
        "mobile_no=7302080109\n",
        "total_bill=(price_of_item1+price_of_item2+price_of_item3+price_of_item4+price_of_item5)\n",
        "total_discount=(discount_on_pizza+discount_on_burger+discount_on_coke+discount_on_cold_coffee+discount_on_fries)\n",
        "payable_bill=total_bill-total_discount\n",
        "\n",
        "print(\".........cool cafe........\")\n",
        "print(\"...receipt...\")\n",
        "print(item1,\"=\",price_of_item1)\n",
        "print(item2,\"=\",price_of_item2)\n",
        "print(item3,\"=\",price_of_item3)\n",
        "print(item4,\"=\",price_of_item4)\n",
        "print(item5,\"=\",price_of_item5)\n",
        "print(\"-------------\")\n",
        "print(\"dis on pizza: \",discount_on_pizza)\n",
        "print(\"dis on burger: \",discount_on_burger)\n",
        "print(\"dis on coke: \",discount_on_coke)\n",
        "print(\"dis on cold coffee: \",discount_on_cold_coffee)\n",
        "print(\"dis on fries: \",discount_on_fries)\n",
        "print(\"------------\")\n",
        "print(\"total_bill :\",total_bill)\n",
        "print(\"total discount:\",total_discount)\n",
        "print(\"---------\")\n",
        "print(\"payable_bill :\",payable_bill)\n",
        "print(\"-------------------\")\n",
        "print(\"----------delivery_address-------\")\n",
        "print(\"name\",name)\n",
        "print(\"house_no: \",house_no)\n",
        "print(\"mobile_no\",mobile_no)\n",
        "\n"
      ],
      "metadata": {
        "colab": {
          "base_uri": "https://localhost:8080/"
        },
        "id": "NiHEtN47LqGa",
        "outputId": "3ed8f656-c4e8-4f1f-b36e-46767b4c6732"
      },
      "execution_count": null,
      "outputs": [
        {
          "output_type": "stream",
          "name": "stdout",
          "text": [
            ".........cool cafe........\n",
            "...receipt...\n",
            "pizza = 500\n",
            "burger = 100\n",
            "coke = 80\n",
            "cold_coffee = 200\n",
            "fries = 120\n",
            "-------------\n",
            "dis on pizza:  50\n",
            "dis on burger:  10\n",
            "dis on coke:  8\n",
            "dis on cold coffee:  20\n",
            "dis on fries:  12\n",
            "------------\n",
            "total_bill : 1000\n",
            "total discount: 100\n",
            "---------\n",
            "payable_bill : 900\n",
            "-------------------\n",
            "----------delivery_address-------\n",
            "name vaishnavi\n",
            "house_no:  3345\n",
            "mobile_no 7302080109\n"
          ]
        }
      ]
    },
    {
      "cell_type": "code",
      "source": [
        "item1=input(\" item1: \")\n",
        "item2=input(\" item2: \")\n",
        "item3=input(\" item3: \")\n",
        "item4=input(\" item4: \")\n",
        "item5=input(\" item5: \")\n",
        "item1=int(input(\" price of pizza: \"))\n",
        "item2=int(input(\" price of burger:  \"))\n",
        "item3=int(input(\" price of coke: \"))\n",
        "item4=int(input(\" price of cold coffee: \"))\n",
        "item5=int(input(\" price of fries: \"))\n",
        "item1=int(input(\"discount on pizza: \"))\n",
        "item2=int(input(\"discount on burger: \"))\n",
        "item3=int(input(\"discount on coke: \"))\n",
        "item4=int(input(\"discount on cold coffee: \"))\n",
        "item5=int(input(\"discount on fries: \"))\n",
        "bill=int(input(\"total bill= \"))\n",
        "dis=int(input(\"total discount= \"))\n",
        "payable_amount=int(input(\"payable amount= \"))\n",
        "\n",
        "\n",
        "\n"
      ],
      "metadata": {
        "id": "4RZZBM8_WMU7",
        "outputId": "fd1572de-018f-4592-d2b6-e0dc3ab8a4c9",
        "colab": {
          "base_uri": "https://localhost:8080/"
        }
      },
      "execution_count": null,
      "outputs": [
        {
          "output_type": "stream",
          "name": "stdout",
          "text": [
            " item1: pizza\n",
            " item2: burger\n",
            " item3: coke\n",
            " item4: cold coffee\n",
            " item5: fries\n",
            " price of pizza: 500\n",
            " price of burger:  100\n",
            " price of coke: 80\n",
            " price of cold coffee: 200\n",
            " price of fries: 120\n",
            "discount on pizza: 50\n",
            "discount on burger: 10\n",
            "discount on coke: 8\n",
            "discount on cold coffee: 20\n",
            "discount on fries: 12\n",
            "total bill= 1000\n",
            "total discount= 100\n",
            "payable amount= 900\n",
            "---------\n"
          ]
        }
      ]
    },
    {
      "cell_type": "code",
      "source": [
        "a=int(input(\"enter value of a\"))\n",
        "b=int(input(\"enter value of b\"))\n",
        "sum=a+b\n",
        "print(\"sum\",sum)\n",
        "multiply=a*b\n",
        "print(\"multiply\", multiply)\n",
        "divide=a/b\n",
        "print(\"divide\",divide)\n",
        "subtract=a-b\n",
        "print(\"subtract\",subtract)\n",
        "\n"
      ],
      "metadata": {
        "id": "5XvRqxjdY55-",
        "outputId": "ff7403dc-d498-4972-e969-bd8822910afb",
        "colab": {
          "base_uri": "https://localhost:8080/"
        }
      },
      "execution_count": null,
      "outputs": [
        {
          "output_type": "stream",
          "name": "stdout",
          "text": [
            "enter value of a40\n",
            "enter value of b45\n",
            "sum 85\n",
            "multiply 1800\n",
            "divide 0.8888888888888888\n",
            "subtract -5\n"
          ]
        }
      ]
    },
    {
      "cell_type": "code",
      "source": [
        "x=int(input(\"enter number\"))\n",
        "\n",
        "if x % 2==0:\n",
        "  print(\"even\")\n",
        "else:\n",
        "  print(\"odd\")\n",
        "\n"
      ],
      "metadata": {
        "id": "8VKcaYttdlat",
        "outputId": "03600185-c424-42c2-8592-a5ffa636dfe5",
        "colab": {
          "base_uri": "https://localhost:8080/"
        }
      },
      "execution_count": null,
      "outputs": [
        {
          "output_type": "stream",
          "name": "stdout",
          "text": [
            "enter number8\n",
            "even\n"
          ]
        }
      ]
    },
    {
      "cell_type": "code",
      "source": [
        "x=int(input(\"enter number\"))\n",
        "if x % 2==0:\n",
        "  print(\"even\")\n",
        "else:\n",
        "  print(\"odd\")\n"
      ],
      "metadata": {
        "id": "_e-yKHi4Y1L-",
        "outputId": "68ac0da6-50c5-486c-ff2c-66fb07078679",
        "colab": {
          "base_uri": "https://localhost:8080/"
        }
      },
      "execution_count": null,
      "outputs": [
        {
          "output_type": "stream",
          "name": "stdout",
          "text": [
            "enter number85\n",
            "odd\n"
          ]
        }
      ]
    },
    {
      "cell_type": "code",
      "source": [
        "product1= input(\"product1 = \")\n",
        "price_of_product1= int(input(\"price = \"))\n",
        "dis_on_product1= int(input(\"discount = \"))\n",
        "discount_on_product1= price_of_product1*dis_on_product1/100\n",
        "final_price_of_product1= price_of_product1-discount_on_product1\n",
        "print(final_price_of_product1)\n",
        "print(\"-----------------\")\n",
        "\n",
        "product2=input(\"product2 = \")\n",
        "price_of_product2=int(input(\"price of product2 = \"))\n",
        "dis_on_product2=int(input(\"discount = \"))\n",
        "discount_on_product2=price_of_product2*dis_on_product2/100\n",
        "final_price_of_product2=price_of_product2-discount_on_product2\n",
        "print(final_price_of_product2)\n",
        "print(\"----------------\")\n",
        "\n",
        "product3=input(\"product3 = \")\n",
        "price_of_product3=int(input(\"price of product3 = \"))\n",
        "dis_on_product3=int(input(\"discount = \"))\n",
        "discount_on_product3=price_of_product3*dis_on_product3/100\n",
        "final_price_of_product3=price_of_product3-discount_on_product3\n",
        "print(final_price_of_product3)\n",
        "print(\"----------------\")\n",
        "\n",
        "product4=input(\"product4 = \")\n",
        "price_of_product_4=int(input(\"price of product4 = \"))\n",
        "dis_on_product4=int(input(\"discount = \"))\n",
        "discount_on_product4=price_of_product_4*dis_on_product4/100\n",
        "final_price_of_product4=price_of_product_4-discount_on_product4\n",
        "print(final_price_of_product4)\n",
        "print(\"----------------\")\n",
        "\n",
        "total_bill=price_of_product1+price_of_product2+price_of_product3+price_of_product_4\n",
        "payable_amount=final_price_of_product1+final_price_of_product2+final_price_of_product3+final_price_of_product4\n",
        "print(\"total_bill = \",total_bill)\n",
        "print(\"------\")\n",
        "print(\"payable amount = \",payable_amount)\n",
        "print(\"---------------------------\")\n",
        "\n",
        "print(\"__________delivery address__________\")\n",
        "name=input(\"name = \")\n",
        "address=input(\"address_ \")\n",
        "mobile_no=int(input(\"mobile no_ \"))\n",
        "print(\"______thank_you______\")\n",
        "\n",
        "\n"
      ],
      "metadata": {
        "id": "sEcY0T7z7cfJ",
        "outputId": "97480f6c-8768-455f-bf4b-1466c45f0796",
        "colab": {
          "base_uri": "https://localhost:8080/"
        }
      },
      "execution_count": null,
      "outputs": [
        {
          "output_type": "stream",
          "name": "stdout",
          "text": [
            "product1 = smart watch\n",
            "price = 1200\n",
            "discount = 10\n",
            "1080.0\n",
            "-----------------\n",
            "product2 = laptop\n",
            "price of product2 = 38000\n",
            "discount = 10\n",
            "34200.0\n",
            "----------------\n",
            "product3 = mixer grinder\n",
            "price of product3 = 1000\n",
            "discount = 10\n",
            "900.0\n",
            "----------------\n",
            "product4 = sun glasses\n",
            "price of product4 = 850\n",
            "discount = 10\n",
            "765.0\n",
            "----------------\n",
            "total_bill =  41050\n",
            "------\n",
            "payable amount =  36945.0\n",
            "---------------------------\n",
            "__________delivery address__________\n",
            "name = anshika\n",
            "address_ chandigarh\n",
            "mobile no_ 7302080109\n",
            "______thank_you______\n"
          ]
        }
      ]
    },
    {
      "cell_type": "code",
      "source": [
        "address=input(\"address_ \")"
      ],
      "metadata": {
        "id": "bOKNegd_TPx1",
        "outputId": "f935afd7-95db-4087-a32e-2de22d61e449",
        "colab": {
          "base_uri": "https://localhost:8080/"
        }
      },
      "execution_count": null,
      "outputs": [
        {
          "name": "stdout",
          "output_type": "stream",
          "text": [
            "address_ 3345,sector21d,chandigarh\n"
          ]
        }
      ]
    },
    {
      "cell_type": "code",
      "source": [
        "item1=input(\"item1: \")\n",
        "price1=int(input(\"price: \"))\n",
        "discount1=int(input(\"discount: \"))\n",
        "discount_on_item1=price1*discount1/100\n",
        "final_price_of_item1=price1-discount_on_item1\n",
        "print(final_price_of_item1)\n",
        "print(\"--------\")\n",
        "\n",
        "item2=input(\"item2: \")\n",
        "price2=int(input(\"price: \"))\n",
        "discount2=int(input(\"discount: \"))\n",
        "discount_on_item2=price2*discount2/100\n",
        "final_price_of_item2=price2-discount_on_item2\n",
        "print(final_price_of_item2)\n",
        "print(\"--------\")\n",
        "\n",
        "total_bill=price1+price2\n",
        "total_discount=discount_on_item1+discount_on_item2\n",
        "total_bill_after_discount=final_price_of_item1+final_price_of_item2\n",
        "print(total_bill)\n",
        "print(total_discount)\n",
        "print(\"--------\")\n",
        "print(total_bill_after_discount)\n",
        "delivery_charges=int(input(\"delivery charges\"))\n",
        "payable_amount=total_bill_after_discount+delivery_charges\n",
        "print(delivery_charges)\n",
        "print(\"--------\")\n",
        "print(payable_amount)\n",
        "print(\"------------------\")\n",
        "\n",
        "print(\"________delivery address________\")\n",
        "name=input(\"name: \")\n",
        "address=input(\"address_ \")\n",
        "mobile_no=int(input(\"mobile no_ \"))\n",
        "print(\"------------\")\n",
        "\n",
        "\n",
        "\n",
        "\n"
      ],
      "metadata": {
        "id": "eGSXMpD2U5FE",
        "outputId": "54963ec6-1ab6-4a3a-c1fe-cd8187db370b",
        "colab": {
          "base_uri": "https://localhost:8080/"
        }
      },
      "execution_count": null,
      "outputs": [
        {
          "output_type": "stream",
          "name": "stdout",
          "text": [
            "item1: pizza\n",
            "price: 250\n",
            "discount: 10\n",
            "225.0\n",
            "--------\n",
            "item2: coke\n",
            "price: 80\n",
            "discount: 10\n",
            "72.0\n",
            "--------\n",
            "330\n",
            "33.0\n",
            "--------\n",
            "297.0\n",
            "delivery charges60\n",
            "60\n",
            "--------\n",
            "357.0\n",
            "------------------\n",
            "________delivery address________\n",
            "name: vaishnavi\n",
            "address_ 3345,sector21d,chandigarh\n",
            "mobile no_ 7302080109\n",
            "------------\n"
          ]
        }
      ]
    },
    {
      "cell_type": "code",
      "source": [
        "colour=input(\"colour: \")\n",
        "if colour==\"red\":\n",
        "  print(\"stop\")\n",
        "else:\n",
        "  print(\"move\")"
      ],
      "metadata": {
        "id": "3DRfpLhdh7C_",
        "outputId": "76166601-46cc-4820-cbfd-328d1d44db28",
        "colab": {
          "base_uri": "https://localhost:8080/"
        }
      },
      "execution_count": null,
      "outputs": [
        {
          "output_type": "stream",
          "name": "stdout",
          "text": [
            "colour: red\n",
            "stop\n"
          ]
        }
      ]
    },
    {
      "cell_type": "code",
      "source": [
        "colour=input(\"colour: \")\n",
        "if colour==\"yellow\" or \"blue\":\n",
        "  print(\"happy\")\n",
        "else:\n",
        "  print(\"sad\")\n",
        "print(\"--------\")\n",
        "\n",
        "colour=input(\"colour: \")\n",
        "if colour==\"green\":\n",
        "  print(\"stop\")\n",
        "elif colour==\"pink\":\n",
        "  print(\"stop\")\n",
        "else:\n",
        "  print(\"move\")\n"
      ],
      "metadata": {
        "id": "ndN8ShUZlE2z",
        "outputId": "5ed71bd9-8b2a-4237-9466-09126415d0bd",
        "colab": {
          "base_uri": "https://localhost:8080/"
        }
      },
      "execution_count": null,
      "outputs": [
        {
          "output_type": "stream",
          "name": "stdout",
          "text": [
            "colour: yellow\n",
            "happy\n",
            "--------\n",
            "colour: white\n",
            "move\n"
          ]
        }
      ]
    },
    {
      "cell_type": "code",
      "source": [
        "gender=input(\"gender= \")\n",
        "if gender==\"male\":\n",
        " print(\"monday, wednesday,friday\")\n",
        "else:\n",
        "  print(\"tuesday, thursday, saturday\")\n"
      ],
      "metadata": {
        "id": "v23vjhJ_4-ra",
        "outputId": "581efedd-6ed3-47fc-88e4-e92989d8d0de",
        "colab": {
          "base_uri": "https://localhost:8080/"
        }
      },
      "execution_count": null,
      "outputs": [
        {
          "output_type": "stream",
          "name": "stdout",
          "text": [
            "gender= female\n",
            "tuesday, thursday, saturday\n"
          ]
        }
      ]
    },
    {
      "cell_type": "code",
      "source": [
        "gender=input(\"gender= \")\n",
        "if gender==\"male\":\n",
        "  print(\"go\")\n",
        "else:\n",
        "  print(\"come\")"
      ],
      "metadata": {
        "id": "lCDSeSFR6dT3",
        "outputId": "10829bec-833c-439b-aea6-daf884cc97e4",
        "colab": {
          "base_uri": "https://localhost:8080/"
        }
      },
      "execution_count": null,
      "outputs": [
        {
          "output_type": "stream",
          "name": "stdout",
          "text": [
            "gender= female\n",
            "come\n"
          ]
        }
      ]
    },
    {
      "cell_type": "code",
      "source": [
        "principal_amount=int(input(\"principal amount\"))\n",
        "rate=int(input(\"rate\"))\n",
        "time=int(input(\"time\"))\n",
        "amount=(principal_amount*rate*time)/100\n",
        "print(amount)"
      ],
      "metadata": {
        "id": "A34TP1VQ9mND",
        "outputId": "212196c1-526c-4ec1-9830-2e8e234f32d7",
        "colab": {
          "base_uri": "https://localhost:8080/"
        }
      },
      "execution_count": null,
      "outputs": [
        {
          "output_type": "stream",
          "name": "stdout",
          "text": [
            "principal amount500\n",
            "rate4\n",
            "time5\n",
            "100.0\n"
          ]
        }
      ]
    },
    {
      "cell_type": "code",
      "source": [
        "principal=int(input(\"principal: \"))\n",
        "rate=int(input(\"rate: \"))\n",
        "month=int(input(\"month: \"))\n",
        "time_in_days=int(input(\"time in days\"))\n",
        "time_in_month=(time_in_days/30)\n",
        "amount=principal*rate*time/100\n",
        "si=principal*rate*time*time_in_month/100\n",
        "print(amount)\n",
        "print(si)\n",
        "print(amount+si)\n",
        "\n",
        "\n"
      ],
      "metadata": {
        "id": "xiQ2LlCMAB4S",
        "outputId": "c066f355-7332-4d56-931e-98740fbc2ce0",
        "colab": {
          "base_uri": "https://localhost:8080/"
        }
      },
      "execution_count": null,
      "outputs": [
        {
          "output_type": "stream",
          "name": "stdout",
          "text": [
            "principal: 500\n",
            "rate: 4\n",
            "month: 5\n",
            "time in days5\n",
            "100.0\n",
            "16.666666666666664\n",
            "116.66666666666666\n"
          ]
        }
      ]
    },
    {
      "cell_type": "code",
      "source": [
        "principal=int(input(\"principal: \"))\n",
        "rate=int(input(\"rate: \"))\n",
        "time=int(input(\"month: \"))\n",
        "days=int(input(\"days: \"))\n",
        "time_in_month=days/30\n",
        "amount=(principal*rate*time)/100\n",
        "si=(principal*rate*time*time_in_month/100)\n",
        "print(amount)\n",
        "print(si)\n",
        "print(amount+si)\n",
        "\n"
      ],
      "metadata": {
        "id": "iW-90CLoGVrv",
        "outputId": "d8982d69-afce-4061-d9ff-29642756bb9a",
        "colab": {
          "base_uri": "https://localhost:8080/"
        }
      },
      "execution_count": null,
      "outputs": [
        {
          "output_type": "stream",
          "name": "stdout",
          "text": [
            "principal: 15000\n",
            "rate: 5\n",
            "month: 6\n",
            "days: 20\n",
            "4500.0\n",
            "3000.0\n",
            "7500.0\n"
          ]
        }
      ]
    },
    {
      "cell_type": "code",
      "source": [
        "marks=input(\"marks: \")\n",
        "if marks>\"30\":\n",
        " print(\"pass\")\n",
        "else:\n",
        "  print(\"fail\")"
      ],
      "metadata": {
        "id": "quOc9-RlLL1Z",
        "outputId": "2df5fc83-accb-434a-ff36-358d4722ff5c",
        "colab": {
          "base_uri": "https://localhost:8080/"
        }
      },
      "execution_count": null,
      "outputs": [
        {
          "output_type": "stream",
          "name": "stdout",
          "text": [
            "marks: 55\n",
            "pass\n"
          ]
        }
      ]
    },
    {
      "cell_type": "code",
      "source": [
        "principal=40000\n",
        "rate=10\n",
        "time_in_months=8\n",
        "time_in_days=25\n",
        "print(\"principal= \",principal)\n",
        "print(\"rate= \",rate)\n",
        "print(\"time in months =\",time_in_months)\n",
        "print(\"time in days= \",time_in_days)\n",
        "total_time=time_in_days/30\n",
        "amount=principal*rate*time/100\n",
        "si=principal*rate*time_in_month*total_time/100\n",
        "print(total_time)\n",
        "print(amount)\n",
        "print(si)\n",
        "print(amount+si)\n"
      ],
      "metadata": {
        "id": "273lPd4kOctY",
        "outputId": "e7ac5bab-9623-4fdd-8cf2-4cb72da706d7",
        "colab": {
          "base_uri": "https://localhost:8080/"
        }
      },
      "execution_count": null,
      "outputs": [
        {
          "output_type": "stream",
          "name": "stdout",
          "text": [
            "principal=  40000\n",
            "rate=  10\n",
            "time in months = 8\n",
            "time in days=  25\n",
            "0.8333333333333334\n",
            "24000.0\n",
            "2222.2222222222217\n",
            "26222.222222222223\n"
          ]
        }
      ]
    },
    {
      "cell_type": "code",
      "source": [
        "principal=int(input(\"principal\"))\n",
        "rate=int(input(\"rate\"))\n",
        "time=int(input(\"time\"))\n",
        "month=input(\"month\")\n",
        "days=int(input(\"days\"))\n",
        "year=int(input(\"year\"))\n",
        "if month==\"jan\" or month==\"march\" or month==\"may\" or month==\"july\" or month==\"august\" or month==\"october\" or month==\"december\":\n",
        " days_in_month=31\n",
        "elif month==\"april\" or month==\"june\" or month==\"september\" or month==\"november\":\n",
        "  days_in_month=30\n",
        "if year % 4 ==0 and  year % 100 !=0 or year % 400 ==0:\n",
        "  days_in_month=29\n",
        "else:\n",
        "  days_in_month=28\n",
        "total_time=days/days_in_month\n",
        "print(total_time)\n",
        "amount=principal*rate*time/100\n",
        "si=principal*rate*time*days_in_month/100\n",
        "print(\"amount_\", amount)\n",
        "print(\"si_\",si)\n",
        "print(\"total_\" ,amount+si)\n",
        "\n"
      ],
      "metadata": {
        "id": "M2u04TJxSAT9",
        "outputId": "4828cb4f-ed83-4a4c-eb37-afedc038c16c",
        "colab": {
          "base_uri": "https://localhost:8080/"
        }
      },
      "execution_count": null,
      "outputs": [
        {
          "output_type": "stream",
          "name": "stdout",
          "text": [
            "principal40000\n",
            "rate10\n",
            "time5\n",
            "monthjuly\n",
            "days10\n",
            "year2024\n",
            "0.3448275862068966\n",
            "amount_ 20000.0\n",
            "si_ 580000.0\n",
            "total_ 600000.0\n"
          ]
        }
      ]
    },
    {
      "cell_type": "code",
      "source": [
        "number=int(input(\"number= \"))\n",
        "if number % 2==0:\n",
        "  print(\"even\")\n",
        "else:\n",
        "    print(\"odd\")\n"
      ],
      "metadata": {
        "colab": {
          "base_uri": "https://localhost:8080/"
        },
        "id": "PjQROfKPCYy3",
        "outputId": "8d5c83b5-9b46-4032-e3e6-7cc0cdaa63e8"
      },
      "execution_count": null,
      "outputs": [
        {
          "output_type": "stream",
          "name": "stdout",
          "text": [
            "number= 60\n",
            "even\n"
          ]
        }
      ]
    },
    {
      "cell_type": "code",
      "source": [
        "number=int(input(\"number\"))\n",
        "if number % 7==0 and number % 5==0:\n",
        "  print(\"divisible\")\n",
        "else:\n",
        "  print(\"not divisible\")"
      ],
      "metadata": {
        "colab": {
          "base_uri": "https://localhost:8080/"
        },
        "id": "kwJUZ8UQC7b-",
        "outputId": "2e216a3c-480c-45ec-e50b-279a1fddd16d"
      },
      "execution_count": null,
      "outputs": [
        {
          "output_type": "stream",
          "name": "stdout",
          "text": [
            "number35\n",
            "divisible\n"
          ]
        }
      ]
    },
    {
      "cell_type": "code",
      "source": [
        "gender=input(\"gender\")\n",
        "age=int(input(\"age\"))\n",
        "if gender==\"male\":\n",
        " print(\"hotel a\")\n",
        " if age>30:\n",
        "  print(\"building1\")\n",
        " else:\n",
        "  print(\"building2\")\n",
        "else:\n",
        "  print(\"hotel b\")\n",
        "  if age>30:\n",
        "    print(\"building1\")\n",
        "  else:\n",
        "    print(\"building2\")\n",
        "\n",
        "\n"
      ],
      "metadata": {
        "colab": {
          "base_uri": "https://localhost:8080/"
        },
        "id": "rY6ibYH8ElMn",
        "outputId": "d4426f77-4fe5-4b04-98eb-6e66a8bc169d"
      },
      "execution_count": null,
      "outputs": [
        {
          "output_type": "stream",
          "name": "stdout",
          "text": [
            "genderfemale\n",
            "age35\n",
            "hotel b\n",
            "building1\n"
          ]
        }
      ]
    },
    {
      "cell_type": "code",
      "source": [
        "month=input(\"month_\")\n",
        "days=int(input(\"days\"))\n",
        "if month==\"jan\" or month==\"march\" or month==\"may\" or month==\"july\" or month==\"august\" or month==\"october\" or month==\"december\":\n",
        " days_in_month=31\n",
        "elif month==\"april\" or month==\"june\" or month==\"september\" or month==\"november\":\n",
        "  days_in_month=30\n",
        "else:\n",
        "  days_in_month=28\n",
        "print(\"days_in_month\",days_in_month)\n",
        "print(days/days_in_month)\n",
        "\n"
      ],
      "metadata": {
        "colab": {
          "base_uri": "https://localhost:8080/"
        },
        "id": "pW4Wq2_1KV3g",
        "outputId": "5bac965b-de22-4be6-a42e-bd83d0ae7a1c"
      },
      "execution_count": null,
      "outputs": [
        {
          "output_type": "stream",
          "name": "stdout",
          "text": [
            "month_july\n",
            "days10\n",
            "days_in_month 31\n",
            "0.3225806451612903\n"
          ]
        }
      ]
    },
    {
      "cell_type": "code",
      "source": [
        "year=int(input(\"year\"))\n",
        "if year % 4 ==0 and  year % 100 !=0 or year % 400 ==0:\n",
        "  days_in_month=29\n",
        "else:\n",
        "  days_in_month=28\n",
        "print(\"days in month:\",days_in_month)\n"
      ],
      "metadata": {
        "id": "68JSwDhXMnBn",
        "outputId": "58192c2c-cf1e-4d0e-f685-09cdaa2b0ff4",
        "colab": {
          "base_uri": "https://localhost:8080/"
        }
      },
      "execution_count": null,
      "outputs": [
        {
          "output_type": "stream",
          "name": "stdout",
          "text": [
            "year2025\n",
            "days in month: 28\n"
          ]
        }
      ]
    },
    {
      "cell_type": "code",
      "source": [
        "#traffic light system\n",
        "print(\"direction= north\")\n",
        "print(\"----------------\")\n",
        "print(\"north incoming: go \")\n",
        "print(\"south outgoing: go\")\n",
        "print(\"west outgoing: go\")\n",
        "print(\"east outgoing: go\")\n",
        "print(\"north outgoing: go\")\n",
        "print(\"east incoming: stop\")\n",
        "print(\"south incoming: stop\")\n",
        "print(\"west incoming: stop\")\n",
        "print(\"__________________\")\n",
        "print(\"direction= south\")\n",
        "print(\"---------------\")\n",
        "print(\"south incoming: go\")\n",
        "print(\"west outgoing: go\")\n",
        "print(\"north outgoing: go\")\n",
        "print(\"east outgoing: go\")\n",
        "print(\"south outgoing: go\")\n",
        "print(\"west incoming: stop\")\n",
        "print(\"north incoming: stop\")\n",
        "print(\"east incoming: stop\")\n",
        "print(\"__________________\")\n",
        "print(\"direction= east\")\n",
        "print(\"--------------\")\n",
        "print(\"east incoming: go\")\n",
        "print(\"south outgoing: go\")\n",
        "print(\"west outgoing: go\")\n",
        "print(\"north outgoing: go\")\n",
        "print(\"east outgoing: go\")\n",
        "print(\"south incoming: stop\")\n",
        "print(\"west incoming: stop\")\n",
        "print(\"north incoming: stop\")\n",
        "print(\"__________________\")\n",
        "print(\"direction= west\")\n",
        "print(\"--------------\")\n",
        "print(\"west incoming: go\")\n",
        "print(\"north outgoing: go\")\n",
        "print(\"east outgoing: go\")\n",
        "print(\"south outgoing: go\")\n",
        "print(\"west outgoing: go\")\n",
        "print(\"north incoming: stop\")\n",
        "print(\"east incoming: stop\")\n",
        "print(\"south incoming: stop\")\n",
        "print(\"________________\")"
      ],
      "metadata": {
        "id": "HixEtkacnlaf",
        "outputId": "6d74a27a-3c8a-4387-f6fa-356fbdba60d8",
        "colab": {
          "base_uri": "https://localhost:8080/"
        }
      },
      "execution_count": null,
      "outputs": [
        {
          "output_type": "stream",
          "name": "stdout",
          "text": [
            "direction= north\n",
            "----------------\n",
            "north incoming: go \n",
            "south outgoing: go\n",
            "west outgoing: go\n",
            "east outgoing: go\n",
            "north outgoing: go\n",
            "east incoming: stop\n",
            "south incoming: stop\n",
            "west incoming: stop\n",
            "__________________\n",
            "direction= south\n",
            "---------------\n",
            "south incoming: go\n",
            "west outgoing: go\n",
            "north outgoing: go\n",
            "east outgoing: go\n",
            "south outgoing: go\n",
            "west incoming: stop\n",
            "north incoming: stop\n",
            "east incoming: stop\n",
            "__________________\n",
            "direction= east\n",
            "--------------\n",
            "east incoming: go\n",
            "south outgoing: go\n",
            "west outgoing: go\n",
            "north outgoing: go\n",
            "east outgoing: go\n",
            "south incoming: stop\n",
            "west incoming: stop\n",
            "north incoming: stop\n",
            "__________________\n",
            "direction= west\n",
            "--------------\n",
            "west incoming: go\n",
            "north outgoing: go\n",
            "east outgoing: go\n",
            "south outgoing: go\n",
            "west outgoing: go\n",
            "north incoming: stop\n",
            "east incoming: stop\n",
            "south incoming: stop\n",
            "________________\n"
          ]
        }
      ]
    },
    {
      "cell_type": "code",
      "source": [
        "direction=input(\"direction= \")\n",
        "if direction==\"north incoming\" or direction==\"east outgoing\" or direction==\"south outgoing\" or direction==\"west outgoing\" or direction==\"north outgoing\":\n",
        "  print(\"open\")\n",
        "elif direction==\"east incoming\" or direction==\"south incoming\" or direction==\"west incoming\":\n",
        "  print(\"close\")\n",
        "else:\n",
        "  print(\"invalid direction\")\n",
        "print(\"_______\")\n",
        "direction=input(\"direction= \")\n",
        "if direction==\"south incoming\" or direction==\"west outgoing\" or direction==\"north outgoing\" or direction==\"east outgoing\" or direction==\"south outgoing\":\n",
        "  print(\"open\")\n",
        "elif direction==\"west incoming\" or direction==\"north incoming\" or direction==\"east incoming\":\n",
        "  print(\"close\")\n",
        "else:\n",
        "   print(\"invalid direction\")\n",
        "print(\"______\")\n",
        "direction=input(\"direction= \")\n",
        "if direction==\"west incoming\" or direction==\"north outgoing\" or direction==\"east outgoing\" or direction==\"south outgoing\" or direction==\"west outgoing\":\n",
        "  print(\"open\")\n",
        "elif direction==\"north incoming\" or direction==\"east incoming\" or direction==\"south incoming\":\n",
        "  print(\"close\")\n",
        "else:\n",
        "  print(\"invalid direction\")\n",
        "print(\"______\")\n",
        "direction= input(\"direction= \")\n",
        "if direction==\"east incoming\" or direction==\"south outgoing\" or direction==\"west outgoing\" or direction==\"north outgoing\" or direction==\"east outgoing\":\n",
        "  print(\"open\")\n",
        "elif direction==\"south incoming\" or direction==\"west incoming\" or direction==\"north incoming\":\n",
        "  print(\"close\")\n",
        "else:\n",
        "  print(\"invalid direction\")"
      ],
      "metadata": {
        "id": "q79CIeHpsQNz",
        "outputId": "dbed3ed7-cd1a-4af1-ed05-4abc2c37f273",
        "colab": {
          "base_uri": "https://localhost:8080/"
        }
      },
      "execution_count": null,
      "outputs": [
        {
          "output_type": "stream",
          "name": "stdout",
          "text": [
            "direction= north incoming\n",
            "open\n",
            "_______\n",
            "direction= west incoming\n",
            "close\n",
            "______\n",
            "direction= south incoming\n",
            "close\n",
            "______\n",
            "direction= east incoming\n",
            "open\n"
          ]
        }
      ]
    },
    {
      "cell_type": "code",
      "source": [
        "#loop\n",
        "for i in range(1,11):\n",
        "  print(i)"
      ],
      "metadata": {
        "id": "STSRrwiUrMli",
        "outputId": "8cdd1cd4-3ce8-4aaa-fb3c-cedd97818f28",
        "colab": {
          "base_uri": "https://localhost:8080/"
        }
      },
      "execution_count": 6,
      "outputs": [
        {
          "output_type": "stream",
          "name": "stdout",
          "text": [
            "1\n",
            "2\n",
            "3\n",
            "4\n",
            "5\n",
            "6\n",
            "7\n",
            "8\n",
            "9\n",
            "10\n"
          ]
        }
      ]
    },
    {
      "cell_type": "code",
      "source": [
        "for i in range (0,10,2):\n",
        "  print(i)"
      ],
      "metadata": {
        "id": "a1rjyoVPsyhn",
        "outputId": "609fbd42-4c34-45a2-cb00-55fae784f723",
        "colab": {
          "base_uri": "https://localhost:8080/"
        }
      },
      "execution_count": 7,
      "outputs": [
        {
          "output_type": "stream",
          "name": "stdout",
          "text": [
            "0\n",
            "2\n",
            "4\n",
            "6\n",
            "8\n"
          ]
        }
      ]
    },
    {
      "cell_type": "code",
      "source": [
        "for i in range(1,11,2):\n",
        "  print(i)"
      ],
      "metadata": {
        "id": "8YNYKKldtxdW",
        "outputId": "29979018-dafe-47a4-e4ac-8c01d8ade175",
        "colab": {
          "base_uri": "https://localhost:8080/"
        }
      },
      "execution_count": 10,
      "outputs": [
        {
          "output_type": "stream",
          "name": "stdout",
          "text": [
            "1\n",
            "3\n",
            "5\n",
            "7\n",
            "9\n"
          ]
        }
      ]
    },
    {
      "cell_type": "code",
      "source": [
        "sum=0\n",
        "for i in range(1,11):\n",
        "  sum=sum+i\n",
        "print(sum)"
      ],
      "metadata": {
        "id": "A6rzhaZ6uFzT",
        "outputId": "e726aedd-f72c-4303-a985-f128949158fa",
        "colab": {
          "base_uri": "https://localhost:8080/"
        }
      },
      "execution_count": 20,
      "outputs": [
        {
          "output_type": "stream",
          "name": "stdout",
          "text": [
            "55\n"
          ]
        }
      ]
    },
    {
      "cell_type": "code",
      "source": [
        "sum=0\n",
        "for i in range(1,11,2):\n",
        "  sum=sum+i\n",
        "print(sum)"
      ],
      "metadata": {
        "id": "Gy7C4Ijvv9ZS",
        "outputId": "4f5deda5-38c1-45ed-823c-586dc922f5c2",
        "colab": {
          "base_uri": "https://localhost:8080/"
        }
      },
      "execution_count": 21,
      "outputs": [
        {
          "output_type": "stream",
          "name": "stdout",
          "text": [
            "25\n"
          ]
        }
      ]
    },
    {
      "cell_type": "code",
      "source": [
        "sum=0\n",
        "for i in range(2,13,2):\n",
        "  sum=sum+i\n",
        "print(sum)"
      ],
      "metadata": {
        "id": "F-CjWAmnwJeT",
        "outputId": "2dc89a3b-a075-4530-e14c-3f96339a0838",
        "colab": {
          "base_uri": "https://localhost:8080/"
        }
      },
      "execution_count": 22,
      "outputs": [
        {
          "output_type": "stream",
          "name": "stdout",
          "text": [
            "42\n"
          ]
        }
      ]
    },
    {
      "cell_type": "code",
      "source": [
        "factorial=1\n",
        "for i in range(1,6):\n",
        "  factorial=factorial*i\n",
        "  print(factorial)"
      ],
      "metadata": {
        "id": "k1FGrtwDx_Id",
        "outputId": "ac7a183e-7c83-4a81-f3da-1ae92ee2b6b9",
        "colab": {
          "base_uri": "https://localhost:8080/"
        }
      },
      "execution_count": 24,
      "outputs": [
        {
          "output_type": "stream",
          "name": "stdout",
          "text": [
            "1\n",
            "2\n",
            "6\n",
            "24\n",
            "120\n"
          ]
        }
      ]
    },
    {
      "cell_type": "code",
      "source": [
        "factorial=1\n",
        "sum=0\n",
        "for i in range(1,6):\n",
        "  factorial=factorial*i\n",
        "  sum=sum+factorial\n",
        "print(factorial)\n",
        "print(sum)"
      ],
      "metadata": {
        "id": "iDZHNW4izF3N",
        "outputId": "929c356e-d7b5-45be-fa69-06440e4e9cfe",
        "colab": {
          "base_uri": "https://localhost:8080/"
        }
      },
      "execution_count": 29,
      "outputs": [
        {
          "output_type": "stream",
          "name": "stdout",
          "text": [
            "120\n",
            "153\n"
          ]
        }
      ]
    }
  ]
}