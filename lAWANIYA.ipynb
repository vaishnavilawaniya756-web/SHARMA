{
  "nbformat": 4,
  "nbformat_minor": 0,
  "metadata": {
    "colab": {
      "provenance": [],
      "authorship_tag": "ABX9TyN05avaj4AmkTmR2+bUjfKa",
      "include_colab_link": true
    },
    "kernelspec": {
      "name": "python3",
      "display_name": "Python 3"
    },
    "language_info": {
      "name": "python"
    }
  },
  "cells": [
    {
      "cell_type": "markdown",
      "metadata": {
        "id": "view-in-github",
        "colab_type": "text"
      },
      "source": [
        "<a href=\"https://colab.research.google.com/github/vaishnavilawaniya756-web/SHARMA/blob/main/lAWANIYA.ipynb\" target=\"_parent\"><img src=\"https://colab.research.google.com/assets/colab-badge.svg\" alt=\"Open In Colab\"/></a>"
      ]
    },
    {
      "cell_type": "code",
      "execution_count": null,
      "metadata": {
        "colab": {
          "base_uri": "https://localhost:8080/"
        },
        "id": "fTjQFk-_IMSu",
        "outputId": "81585f41-ef7b-4c10-a0f8-2fc1f6e8bcf0"
      },
      "outputs": [
        {
          "output_type": "stream",
          "name": "stdout",
          "text": [
            "30\n"
          ]
        }
      ],
      "source": [
        "first_number=10\n",
        "second_number=20\n",
        "print(first_number+second_number)"
      ]
    },
    {
      "cell_type": "code",
      "source": [
        "a=500\n",
        "b=100\n",
        "sum=a+b\n",
        "print(\"sum =\",sum)\n",
        "sub=a-b\n",
        "print(\"sub =\",sub)\n",
        "multiply=a*b\n",
        "print(\"multiply =\",multiply)\n",
        "divide=a/b\n",
        "print(\"divide =\",divide)"
      ],
      "metadata": {
        "colab": {
          "base_uri": "https://localhost:8080/"
        },
        "id": "b83fju0FKSj5",
        "outputId": "67ee9fbc-3d75-4d4e-df6f-d4e137e17792"
      },
      "execution_count": null,
      "outputs": [
        {
          "output_type": "stream",
          "name": "stdout",
          "text": [
            "sum = 600\n",
            "sub = 400\n",
            "multiply = 50000\n",
            "divide = 5.0\n"
          ]
        }
      ]
    },
    {
      "cell_type": "code",
      "source": [
        "#restaurant billing project\n",
        "item1=\"pizza\"\n",
        "price_of_item1=500\n",
        "item2=\"burger\"\n",
        "price_of_item2=100\n",
        "item3=\"coke\"\n",
        "price_of_item3=80\n",
        "item4=\"cold_coffee\"\n",
        "price_of_item4=200\n",
        "item5=\"fries\"\n",
        "price_of_item5=120\n",
        "discount_on_pizza=50\n",
        "discount_on_burger=10\n",
        "discount_on_coke=8\n",
        "discount_on_cold_coffee=20\n",
        "discount_on_fries=12\n",
        "name=\"vaishnavi\"\n",
        "house_no=3345\n",
        "mobile_no=7302080109\n",
        "total_bill=(price_of_item1+price_of_item2+price_of_item3+price_of_item4+price_of_item5)\n",
        "total_discount=(discount_on_pizza+discount_on_burger+discount_on_coke+discount_on_cold_coffee+discount_on_fries)\n",
        "payable_bill=total_bill-total_discount\n",
        "\n",
        "print(\".........cool cafe........\")\n",
        "print(\"...receipt...\")\n",
        "print(item1,\"=\",price_of_item1)\n",
        "print(item2,\"=\",price_of_item2)\n",
        "print(item3,\"=\",price_of_item3)\n",
        "print(item4,\"=\",price_of_item4)\n",
        "print(item5,\"=\",price_of_item5)\n",
        "print(\"-------------\")\n",
        "print(\"dis on pizza: \",discount_on_pizza)\n",
        "print(\"dis on burger: \",discount_on_burger)\n",
        "print(\"dis on coke: \",discount_on_coke)\n",
        "print(\"dis on cold coffee: \",discount_on_cold_coffee)\n",
        "print(\"dis on fries: \",discount_on_fries)\n",
        "print(\"------------\")\n",
        "print(\"total_bill :\",total_bill)\n",
        "print(\"total discount:\",total_discount)\n",
        "print(\"---------\")\n",
        "print(\"payable_bill :\",payable_bill)\n",
        "print(\"-------------------\")\n",
        "print(\"----------delivery_address-------\")\n",
        "print(\"name\",name)\n",
        "print(\"house_no: \",house_no)\n",
        "print(\"mobile_no\",mobile_no)\n",
        "\n"
      ],
      "metadata": {
        "colab": {
          "base_uri": "https://localhost:8080/"
        },
        "id": "NiHEtN47LqGa",
        "outputId": "3ed8f656-c4e8-4f1f-b36e-46767b4c6732"
      },
      "execution_count": null,
      "outputs": [
        {
          "output_type": "stream",
          "name": "stdout",
          "text": [
            ".........cool cafe........\n",
            "...receipt...\n",
            "pizza = 500\n",
            "burger = 100\n",
            "coke = 80\n",
            "cold_coffee = 200\n",
            "fries = 120\n",
            "-------------\n",
            "dis on pizza:  50\n",
            "dis on burger:  10\n",
            "dis on coke:  8\n",
            "dis on cold coffee:  20\n",
            "dis on fries:  12\n",
            "------------\n",
            "total_bill : 1000\n",
            "total discount: 100\n",
            "---------\n",
            "payable_bill : 900\n",
            "-------------------\n",
            "----------delivery_address-------\n",
            "name vaishnavi\n",
            "house_no:  3345\n",
            "mobile_no 7302080109\n"
          ]
        }
      ]
    },
    {
      "cell_type": "code",
      "source": [
        "item1=input(\" item1: \")\n",
        "item2=input(\" item2: \")\n",
        "item3=input(\" item3: \")\n",
        "item4=input(\" item4: \")\n",
        "item5=input(\" item5: \")\n",
        "item1=int(input(\" price of pizza: \"))\n",
        "item2=int(input(\" price of burger:  \"))\n",
        "item3=int(input(\" price of coke: \"))\n",
        "item4=int(input(\" price of cold coffee: \"))\n",
        "item5=int(input(\" price of fries: \"))\n",
        "item1=int(input(\"discount on pizza: \"))\n",
        "item2=int(input(\"discount on burger: \"))\n",
        "item3=int(input(\"discount on coke: \"))\n",
        "item4=int(input(\"discount on cold coffee: \"))\n",
        "item5=int(input(\"discount on fries: \"))\n",
        "bill=int(input(\"total bill= \"))\n",
        "dis=int(input(\"total discount= \"))\n",
        "payable_amount=int(input(\"payable amount= \"))\n",
        "\n",
        "\n",
        "\n"
      ],
      "metadata": {
        "id": "4RZZBM8_WMU7",
        "outputId": "fd1572de-018f-4592-d2b6-e0dc3ab8a4c9",
        "colab": {
          "base_uri": "https://localhost:8080/"
        }
      },
      "execution_count": null,
      "outputs": [
        {
          "output_type": "stream",
          "name": "stdout",
          "text": [
            " item1: pizza\n",
            " item2: burger\n",
            " item3: coke\n",
            " item4: cold coffee\n",
            " item5: fries\n",
            " price of pizza: 500\n",
            " price of burger:  100\n",
            " price of coke: 80\n",
            " price of cold coffee: 200\n",
            " price of fries: 120\n",
            "discount on pizza: 50\n",
            "discount on burger: 10\n",
            "discount on coke: 8\n",
            "discount on cold coffee: 20\n",
            "discount on fries: 12\n",
            "total bill= 1000\n",
            "total discount= 100\n",
            "payable amount= 900\n",
            "---------\n"
          ]
        }
      ]
    },
    {
      "cell_type": "code",
      "source": [
        "a=int(input(\"enter value of a\"))\n",
        "b=int(input(\"enter value of b\"))\n",
        "sum=a+b\n",
        "print(\"sum\",sum)\n",
        "multiply=a*b\n",
        "print(\"multiply\", multiply)\n",
        "divide=a/b\n",
        "print(\"divide\",divide)\n",
        "subtract=a-b\n",
        "print(\"subtract\",subtract)\n",
        "\n"
      ],
      "metadata": {
        "id": "5XvRqxjdY55-",
        "outputId": "ff7403dc-d498-4972-e969-bd8822910afb",
        "colab": {
          "base_uri": "https://localhost:8080/"
        }
      },
      "execution_count": null,
      "outputs": [
        {
          "output_type": "stream",
          "name": "stdout",
          "text": [
            "enter value of a40\n",
            "enter value of b45\n",
            "sum 85\n",
            "multiply 1800\n",
            "divide 0.8888888888888888\n",
            "subtract -5\n"
          ]
        }
      ]
    },
    {
      "cell_type": "code",
      "source": [
        "x=int(input(\"enter number\"))\n",
        "\n",
        "if x % 2==0:\n",
        "  print(\"even\")\n",
        "else:\n",
        "  print(\"odd\")\n",
        "\n"
      ],
      "metadata": {
        "id": "8VKcaYttdlat",
        "outputId": "03600185-c424-42c2-8592-a5ffa636dfe5",
        "colab": {
          "base_uri": "https://localhost:8080/"
        }
      },
      "execution_count": null,
      "outputs": [
        {
          "output_type": "stream",
          "name": "stdout",
          "text": [
            "enter number8\n",
            "even\n"
          ]
        }
      ]
    },
    {
      "cell_type": "code",
      "source": [
        "x=int(input(\"enter number\"))\n",
        "if x % 2==0:\n",
        "  print(\"even\")\n",
        "else:\n",
        "  print(\"odd\")\n"
      ],
      "metadata": {
        "id": "_e-yKHi4Y1L-",
        "outputId": "68ac0da6-50c5-486c-ff2c-66fb07078679",
        "colab": {
          "base_uri": "https://localhost:8080/"
        }
      },
      "execution_count": null,
      "outputs": [
        {
          "output_type": "stream",
          "name": "stdout",
          "text": [
            "enter number85\n",
            "odd\n"
          ]
        }
      ]
    },
    {
      "cell_type": "code",
      "source": [
        "print(\"----product details---\")\n",
        "product1=\"bedsheet\"\n",
        "product2=\"led lights\"\n",
        "product3=\"room decor\"\n",
        "price_of_product1=500\n",
        "price_of_product2=400\n",
        "price_of_product3=1000\n",
        "print(product1, \"=\" ,price_of_product1)\n",
        "print(product2, \"=\" ,price_of_product2)\n",
        "print(product3, \"=\" ,price_of_product3)\n",
        "print(\"--------\")\n",
        "discount_on_bedsheet=50\n",
        "discount_on_led_lights=40\n",
        "discount_on_room_decor=100\n",
        "print(\"discount on bedsheet = \",discount_on_bedsheet)\n",
        "print(\"discount on led lights = \",discount_on_led_lights)\n",
        "print(\"discount on room decor = \",discount_on_room_decor)\n",
        "\n"
      ],
      "metadata": {
        "id": "yHZ832K6bNWo",
        "outputId": "00daa846-14e1-44c8-eeb3-bde178b34497",
        "colab": {
          "base_uri": "https://localhost:8080/"
        }
      },
      "execution_count": 6,
      "outputs": [
        {
          "output_type": "stream",
          "name": "stdout",
          "text": [
            "----product details---\n",
            "bedsheet = 500\n",
            "led lights = 400\n",
            "room decor = 1000\n",
            "--------\n",
            "discount on bedsheet =  50\n",
            "discount on led lights =  40\n",
            "discount on room decor =  100\n"
          ]
        }
      ]
    }
  ]
}