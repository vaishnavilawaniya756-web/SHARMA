{
  "nbformat": 4,
  "nbformat_minor": 0,
  "metadata": {
    "colab": {
      "provenance": [],
      "authorship_tag": "ABX9TyOJHBYWbcal1GZ3vkKzTQP8",
      "include_colab_link": true
    },
    "kernelspec": {
      "name": "python3",
      "display_name": "Python 3"
    },
    "language_info": {
      "name": "python"
    }
  },
  "cells": [
    {
      "cell_type": "markdown",
      "metadata": {
        "id": "view-in-github",
        "colab_type": "text"
      },
      "source": [
        "<a href=\"https://colab.research.google.com/github/vaishnavilawaniya756-web/SHARMA/blob/main/lAWANIYA.ipynb\" target=\"_parent\"><img src=\"https://colab.research.google.com/assets/colab-badge.svg\" alt=\"Open In Colab\"/></a>"
      ]
    },
    {
      "cell_type": "code",
      "execution_count": null,
      "metadata": {
        "colab": {
          "base_uri": "https://localhost:8080/"
        },
        "id": "fTjQFk-_IMSu",
        "outputId": "81585f41-ef7b-4c10-a0f8-2fc1f6e8bcf0"
      },
      "outputs": [
        {
          "output_type": "stream",
          "name": "stdout",
          "text": [
            "30\n"
          ]
        }
      ],
      "source": [
        "first_number=10\n",
        "second_number=20\n",
        "print(first_number+second_number)"
      ]
    },
    {
      "cell_type": "code",
      "source": [
        "a=500\n",
        "b=100\n",
        "sum=a+b\n",
        "print(\"sum =\",sum)\n",
        "sub=a-b\n",
        "print(\"sub =\",sub)\n",
        "multiply=a*b\n",
        "print(\"multiply =\",multiply)\n",
        "divide=a/b\n",
        "print(\"divide =\",divide)"
      ],
      "metadata": {
        "colab": {
          "base_uri": "https://localhost:8080/"
        },
        "id": "b83fju0FKSj5",
        "outputId": "67ee9fbc-3d75-4d4e-df6f-d4e137e17792"
      },
      "execution_count": null,
      "outputs": [
        {
          "output_type": "stream",
          "name": "stdout",
          "text": [
            "sum = 600\n",
            "sub = 400\n",
            "multiply = 50000\n",
            "divide = 5.0\n"
          ]
        }
      ]
    },
    {
      "cell_type": "code",
      "source": [
        "#restaurant billing project\n",
        "item1=\"pizza\"\n",
        "price_of_item1=500\n",
        "item2=\"burger\"\n",
        "price_of_item2=100\n",
        "item3=\"coke\"\n",
        "price_of_item3=80\n",
        "item4=\"cold_coffee\"\n",
        "price_of_item4=200\n",
        "item5=\"fries\"\n",
        "price_of_item5=120\n",
        "\n",
        "name=\"vaishnavi\"\n",
        "house_no=3345\n",
        "mobile_no=7302080109\n",
        "total_bill=(price_of_item1+price_of_item2+price_of_item3+price_of_item4+price_of_item5)\n",
        "discount_on_total_bill=10\n",
        "total_dis=total_bill*discount_on_total_bill/100\n",
        "payable_bill=total_bill-total_dis\n",
        "\n",
        "print(\".........cool cafe........\")\n",
        "print(\"...receipt...\")\n",
        "print(item1,\"=\",price_of_item1)\n",
        "print(\"dis_pizza =\",dis_pizza)\n",
        "print(\"amount_of_pizza :\",amount_of_pizza)\n",
        "print(\".....\")\n",
        "print(item2,\"=\",price_of_item2)\n",
        "print(\"dis_burger =\",dis_burger)\n",
        "print(\"amount_of_burger :\",amount_of_burger)\n",
        "print(\".....\")\n",
        "print(item3,\"=\",price_of_item3)\n",
        "print(\"dis_coke =\",dis_coke)\n",
        "print(\"amount_of_coke :\",amount_of_coke)\n",
        "print(\".....\")\n",
        "print(item4,\"=\",price_of_item4)\n",
        "print(\"dis_cold_coffee =\",dis_cold_coffee)\n",
        "print(\"amount_of_cold_coffee :\",amount_of_cold_coffee)\n",
        "print(\".....\")\n",
        "print(item5,\"=\",price_of_item5)\n",
        "print(\"dis_fries =\",dis_fries)\n",
        "print(\"amount_of_fries :\",amount_of_fries)\n",
        "print(\"......\")\n",
        "print(\"total_bill :\",total_bill)\n",
        "print(\"total dis :\",total_dis)\n",
        "print(\".......\")\n",
        "print(\"payable_bill :\",payable_bill)\n",
        "print(\"----------delivery_address-------\")\n",
        "print(\"name\",name)\n",
        "print(\"house_no: \",house_no)\n",
        "print(\"mobile_no\",mobile_no)\n",
        "\n"
      ],
      "metadata": {
        "colab": {
          "base_uri": "https://localhost:8080/"
        },
        "id": "NiHEtN47LqGa",
        "outputId": "8509ea8a-cb3e-448d-d962-aa601ced3316"
      },
      "execution_count": null,
      "outputs": [
        {
          "output_type": "stream",
          "name": "stdout",
          "text": [
            ".........cool cafe........\n",
            "...receipt...\n",
            "pizza = 500\n",
            "dis_pizza = 50.0\n",
            "amount_of_pizza : 450.0\n",
            ".....\n",
            "burger = 100\n",
            "dis_burger = 10.0\n",
            "amount_of_burger : 90.0\n",
            ".....\n",
            "coke = 80\n",
            "dis_coke = 8.0\n",
            "amount_of_coke : 72.0\n",
            ".....\n",
            "cold_coffee = 200\n",
            "dis_cold_coffee = 20.0\n",
            "amount_of_cold_coffee : 180.0\n",
            ".....\n",
            "fries = 120\n",
            "dis_fries = 12.0\n",
            "amount_of_fries : 108.0\n",
            "......\n",
            "total_bill : 900.0\n",
            "total dis : 90.0\n",
            ".......\n",
            "payable_bill : 810.0\n",
            "----------delivery_address-------\n",
            "name vaishnavi\n",
            "house_no:  3345\n",
            "mobile_no 7302080109\n"
          ]
        }
      ]
    },
    {
      "cell_type": "code",
      "source": [
        "item1=input(\"enter your item: \")\n",
        "item2=input(\"enter your item: \")\n",
        "item3=input(\"enter your item: \")\n",
        "item4=input(\"enter your item: \")\n",
        "item5=input(\"enter your item: \")"
      ],
      "metadata": {
        "id": "4RZZBM8_WMU7",
        "outputId": "cfeaa938-bfe0-4e6b-9b1e-80c94ed27c3d",
        "colab": {
          "base_uri": "https://localhost:8080/"
        }
      },
      "execution_count": null,
      "outputs": [
        {
          "name": "stdout",
          "output_type": "stream",
          "text": [
            "enter your item: pizza\n",
            "enter your item: burger\n",
            "enter your item: coke\n",
            "enter your item: cold_coffee]\n",
            "enter your item: fries\n"
          ]
        }
      ]
    },
    {
      "cell_type": "code",
      "source": [
        "a=int(input(\"enter value of a\"))\n",
        "b=int(input(\"enter value of b\"))\n",
        "sum=a+b\n",
        "print(\"sum\",sum)\n",
        "multiply=a*b\n",
        "print(\"multiply\", multiply)\n",
        "divide=a/b\n",
        "print(\"divide\",divide)\n",
        "subtract=a-b\n",
        "print(\"subtract\",subtract)\n",
        "\n"
      ],
      "metadata": {
        "id": "5XvRqxjdY55-",
        "outputId": "ff7403dc-d498-4972-e969-bd8822910afb",
        "colab": {
          "base_uri": "https://localhost:8080/"
        }
      },
      "execution_count": null,
      "outputs": [
        {
          "output_type": "stream",
          "name": "stdout",
          "text": [
            "enter value of a40\n",
            "enter value of b45\n",
            "sum 85\n",
            "multiply 1800\n",
            "divide 0.8888888888888888\n",
            "subtract -5\n"
          ]
        }
      ]
    },
    {
      "cell_type": "code",
      "source": [
        "x=int(input(\"enter number\"))\n",
        "\n",
        "if x % 2==0:\n",
        "  print(\"even\")\n",
        "else:\n",
        "  print(\"odd\")\n",
        "\n"
      ],
      "metadata": {
        "id": "8VKcaYttdlat",
        "outputId": "03600185-c424-42c2-8592-a5ffa636dfe5",
        "colab": {
          "base_uri": "https://localhost:8080/"
        }
      },
      "execution_count": null,
      "outputs": [
        {
          "output_type": "stream",
          "name": "stdout",
          "text": [
            "enter number8\n",
            "even\n"
          ]
        }
      ]
    },
    {
      "cell_type": "code",
      "source": [],
      "metadata": {
        "id": "_e-yKHi4Y1L-"
      },
      "execution_count": null,
      "outputs": []
    }
  ]
}