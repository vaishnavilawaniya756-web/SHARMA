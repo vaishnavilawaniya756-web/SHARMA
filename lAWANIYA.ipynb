{
  "nbformat": 4,
  "nbformat_minor": 0,
  "metadata": {
    "colab": {
      "provenance": [],
      "authorship_tag": "ABX9TyNYwcNQXZC9IW9Ru+nvGaai",
      "include_colab_link": true
    },
    "kernelspec": {
      "name": "python3",
      "display_name": "Python 3"
    },
    "language_info": {
      "name": "python"
    }
  },
  "cells": [
    {
      "cell_type": "markdown",
      "metadata": {
        "id": "view-in-github",
        "colab_type": "text"
      },
      "source": [
        "<a href=\"https://colab.research.google.com/github/vaishnavilawaniya756-web/SHARMA/blob/main/lAWANIYA.ipynb\" target=\"_parent\"><img src=\"https://colab.research.google.com/assets/colab-badge.svg\" alt=\"Open In Colab\"/></a>"
      ]
    },
    {
      "cell_type": "code",
      "execution_count": null,
      "metadata": {
        "colab": {
          "base_uri": "https://localhost:8080/"
        },
        "id": "fTjQFk-_IMSu",
        "outputId": "81585f41-ef7b-4c10-a0f8-2fc1f6e8bcf0"
      },
      "outputs": [
        {
          "output_type": "stream",
          "name": "stdout",
          "text": [
            "30\n"
          ]
        }
      ],
      "source": [
        "first_number=10\n",
        "second_number=20\n",
        "print(first_number+second_number)"
      ]
    },
    {
      "cell_type": "code",
      "source": [
        "first_number=50\n",
        "second_number=60\n",
        "third_number=70\n",
        "sum=first_number+second_number+third_number\n",
        "print(\"sum: \",sum)\n",
        "print(\"______\")\n",
        "subtract=first_number-second_number-third_number\n",
        "print(\"sub: \",subtract)\n",
        "\n"
      ],
      "metadata": {
        "id": "x8t6Nd6ybVp4",
        "outputId": "7337a49a-1904-4855-ea0c-fddbb611076f",
        "colab": {
          "base_uri": "https://localhost:8080/"
        }
      },
      "execution_count": null,
      "outputs": [
        {
          "output_type": "stream",
          "name": "stdout",
          "text": [
            "sum:  180\n",
            "______\n",
            "sub:  -80\n"
          ]
        }
      ]
    },
    {
      "cell_type": "code",
      "source": [
        "number1=int(input(\"first number\"))\n",
        "number2=int(input(\"second number\"))\n",
        "total=number1+number2\n",
        "print(total)"
      ],
      "metadata": {
        "id": "t9IjMG48chkY",
        "outputId": "30463c36-696d-42e3-c4c2-6261cafeed5e",
        "colab": {
          "base_uri": "https://localhost:8080/"
        }
      },
      "execution_count": null,
      "outputs": [
        {
          "output_type": "stream",
          "name": "stdout",
          "text": [
            "first number20\n",
            "second number30\n",
            "50\n"
          ]
        }
      ]
    },
    {
      "cell_type": "code",
      "source": [
        "a=500\n",
        "b=100\n",
        "sum=a+b\n",
        "print(\"sum =\",sum)\n",
        "sub=a-b\n",
        "print(\"sub =\",sub)\n",
        "multiply=a*b\n",
        "print(\"multiply =\",multiply)\n",
        "divide=a/b\n",
        "print(\"divide =\",divide)"
      ],
      "metadata": {
        "colab": {
          "base_uri": "https://localhost:8080/"
        },
        "id": "b83fju0FKSj5",
        "outputId": "67ee9fbc-3d75-4d4e-df6f-d4e137e17792"
      },
      "execution_count": null,
      "outputs": [
        {
          "output_type": "stream",
          "name": "stdout",
          "text": [
            "sum = 600\n",
            "sub = 400\n",
            "multiply = 50000\n",
            "divide = 5.0\n"
          ]
        }
      ]
    },
    {
      "cell_type": "code",
      "source": [
        "#restaurant billing project\n",
        "item1=\"pizza\"\n",
        "price_of_item1=500\n",
        "item2=\"burger\"\n",
        "price_of_item2=100\n",
        "item3=\"coke\"\n",
        "price_of_item3=80\n",
        "item4=\"cold_coffee\"\n",
        "price_of_item4=200\n",
        "item5=\"fries\"\n",
        "price_of_item5=120\n",
        "discount_on_pizza=50\n",
        "discount_on_burger=10\n",
        "discount_on_coke=8\n",
        "discount_on_cold_coffee=20\n",
        "discount_on_fries=12\n",
        "name=\"vaishnavi\"\n",
        "house_no=3345\n",
        "mobile_no=7302080109\n",
        "total_bill=(price_of_item1+price_of_item2+price_of_item3+price_of_item4+price_of_item5)\n",
        "total_discount=(discount_on_pizza+discount_on_burger+discount_on_coke+discount_on_cold_coffee+discount_on_fries)\n",
        "payable_bill=total_bill-total_discount\n",
        "\n",
        "print(\".........cool cafe........\")\n",
        "print(\"...receipt...\")\n",
        "print(item1,\"=\",price_of_item1)\n",
        "print(item2,\"=\",price_of_item2)\n",
        "print(item3,\"=\",price_of_item3)\n",
        "print(item4,\"=\",price_of_item4)\n",
        "print(item5,\"=\",price_of_item5)\n",
        "print(\"-------------\")\n",
        "print(\"dis on pizza: \",discount_on_pizza)\n",
        "print(\"dis on burger: \",discount_on_burger)\n",
        "print(\"dis on coke: \",discount_on_coke)\n",
        "print(\"dis on cold coffee: \",discount_on_cold_coffee)\n",
        "print(\"dis on fries: \",discount_on_fries)\n",
        "print(\"------------\")\n",
        "print(\"total_bill :\",total_bill)\n",
        "print(\"total discount:\",total_discount)\n",
        "print(\"---------\")\n",
        "print(\"payable_bill :\",payable_bill)\n",
        "print(\"-------------------\")\n",
        "print(\"----------delivery_address-------\")\n",
        "print(\"name\",name)\n",
        "print(\"house_no: \",house_no)\n",
        "print(\"mobile_no\",mobile_no)\n",
        "\n"
      ],
      "metadata": {
        "colab": {
          "base_uri": "https://localhost:8080/"
        },
        "id": "NiHEtN47LqGa",
        "outputId": "3ed8f656-c4e8-4f1f-b36e-46767b4c6732"
      },
      "execution_count": null,
      "outputs": [
        {
          "output_type": "stream",
          "name": "stdout",
          "text": [
            ".........cool cafe........\n",
            "...receipt...\n",
            "pizza = 500\n",
            "burger = 100\n",
            "coke = 80\n",
            "cold_coffee = 200\n",
            "fries = 120\n",
            "-------------\n",
            "dis on pizza:  50\n",
            "dis on burger:  10\n",
            "dis on coke:  8\n",
            "dis on cold coffee:  20\n",
            "dis on fries:  12\n",
            "------------\n",
            "total_bill : 1000\n",
            "total discount: 100\n",
            "---------\n",
            "payable_bill : 900\n",
            "-------------------\n",
            "----------delivery_address-------\n",
            "name vaishnavi\n",
            "house_no:  3345\n",
            "mobile_no 7302080109\n"
          ]
        }
      ]
    },
    {
      "cell_type": "code",
      "source": [
        "item1=input(\" item1: \")\n",
        "item2=input(\" item2: \")\n",
        "item3=input(\" item3: \")\n",
        "item4=input(\" item4: \")\n",
        "item5=input(\" item5: \")\n",
        "item1=int(input(\" price of pizza: \"))\n",
        "item2=int(input(\" price of burger:  \"))\n",
        "item3=int(input(\" price of coke: \"))\n",
        "item4=int(input(\" price of cold coffee: \"))\n",
        "item5=int(input(\" price of fries: \"))\n",
        "item1=int(input(\"discount on pizza: \"))\n",
        "item2=int(input(\"discount on burger: \"))\n",
        "item3=int(input(\"discount on coke: \"))\n",
        "item4=int(input(\"discount on cold coffee: \"))\n",
        "item5=int(input(\"discount on fries: \"))\n",
        "bill=int(input(\"total bill= \"))\n",
        "dis=int(input(\"total discount= \"))\n",
        "payable_amount=int(input(\"payable amount= \"))\n",
        "\n",
        "\n",
        "\n"
      ],
      "metadata": {
        "id": "4RZZBM8_WMU7",
        "outputId": "fd1572de-018f-4592-d2b6-e0dc3ab8a4c9",
        "colab": {
          "base_uri": "https://localhost:8080/"
        }
      },
      "execution_count": null,
      "outputs": [
        {
          "output_type": "stream",
          "name": "stdout",
          "text": [
            " item1: pizza\n",
            " item2: burger\n",
            " item3: coke\n",
            " item4: cold coffee\n",
            " item5: fries\n",
            " price of pizza: 500\n",
            " price of burger:  100\n",
            " price of coke: 80\n",
            " price of cold coffee: 200\n",
            " price of fries: 120\n",
            "discount on pizza: 50\n",
            "discount on burger: 10\n",
            "discount on coke: 8\n",
            "discount on cold coffee: 20\n",
            "discount on fries: 12\n",
            "total bill= 1000\n",
            "total discount= 100\n",
            "payable amount= 900\n",
            "---------\n"
          ]
        }
      ]
    },
    {
      "cell_type": "code",
      "source": [
        "a=int(input(\"enter value of a\"))\n",
        "b=int(input(\"enter value of b\"))\n",
        "sum=a+b\n",
        "print(\"sum\",sum)\n",
        "multiply=a*b\n",
        "print(\"multiply\", multiply)\n",
        "divide=a/b\n",
        "print(\"divide\",divide)\n",
        "subtract=a-b\n",
        "print(\"subtract\",subtract)\n",
        "\n"
      ],
      "metadata": {
        "id": "5XvRqxjdY55-",
        "outputId": "ff7403dc-d498-4972-e969-bd8822910afb",
        "colab": {
          "base_uri": "https://localhost:8080/"
        }
      },
      "execution_count": null,
      "outputs": [
        {
          "output_type": "stream",
          "name": "stdout",
          "text": [
            "enter value of a40\n",
            "enter value of b45\n",
            "sum 85\n",
            "multiply 1800\n",
            "divide 0.8888888888888888\n",
            "subtract -5\n"
          ]
        }
      ]
    },
    {
      "cell_type": "code",
      "source": [
        "x=int(input(\"enter number\"))\n",
        "\n",
        "if x % 2==0:\n",
        "  print(\"even\")\n",
        "else:\n",
        "  print(\"odd\")\n",
        "\n"
      ],
      "metadata": {
        "id": "8VKcaYttdlat",
        "outputId": "03600185-c424-42c2-8592-a5ffa636dfe5",
        "colab": {
          "base_uri": "https://localhost:8080/"
        }
      },
      "execution_count": null,
      "outputs": [
        {
          "output_type": "stream",
          "name": "stdout",
          "text": [
            "enter number8\n",
            "even\n"
          ]
        }
      ]
    },
    {
      "cell_type": "code",
      "source": [
        "x=int(input(\"enter number\"))\n",
        "if x % 2==0:\n",
        "  print(\"even\")\n",
        "else:\n",
        "  print(\"odd\")\n"
      ],
      "metadata": {
        "id": "_e-yKHi4Y1L-",
        "outputId": "68ac0da6-50c5-486c-ff2c-66fb07078679",
        "colab": {
          "base_uri": "https://localhost:8080/"
        }
      },
      "execution_count": null,
      "outputs": [
        {
          "output_type": "stream",
          "name": "stdout",
          "text": [
            "enter number85\n",
            "odd\n"
          ]
        }
      ]
    },
    {
      "cell_type": "code",
      "source": [
        "product1= input(\"product1 = \")\n",
        "price_of_product1= int(input(\"price = \"))\n",
        "dis_on_product1= int(input(\"discount = \"))\n",
        "discount_on_product1= price_of_product1*dis_on_product1/100\n",
        "final_price_of_product1= price_of_product1-discount_on_product1\n",
        "print(final_price_of_product1)\n",
        "print(\"-----------------\")\n",
        "\n",
        "product2=input(\"product2 = \")\n",
        "price_of_product2=int(input(\"price of product2 = \"))\n",
        "dis_on_product2=int(input(\"discount = \"))\n",
        "discount_on_product2=price_of_product2*dis_on_product2/100\n",
        "final_price_of_product2=price_of_product2-discount_on_product2\n",
        "print(final_price_of_product2)\n",
        "print(\"----------------\")\n",
        "\n",
        "product3=input(\"product3 = \")\n",
        "price_of_product3=int(input(\"price of product3 = \"))\n",
        "dis_on_product3=int(input(\"discount = \"))\n",
        "discount_on_product3=price_of_product3*dis_on_product3/100\n",
        "final_price_of_product3=price_of_product3-discount_on_product3\n",
        "print(final_price_of_product3)\n",
        "print(\"----------------\")\n",
        "\n",
        "product4=input(\"product4 = \")\n",
        "price_of_product_4=int(input(\"price of product4 = \"))\n",
        "dis_on_product4=int(input(\"discount = \"))\n",
        "discount_on_product4=price_of_product_4*dis_on_product4/100\n",
        "final_price_of_product4=price_of_product_4-discount_on_product4\n",
        "print(final_price_of_product4)\n",
        "print(\"----------------\")\n",
        "\n",
        "total_bill=price_of_product1+price_of_product2+price_of_product3+price_of_product_4\n",
        "payable_amount=final_price_of_product1+final_price_of_product2+final_price_of_product3+final_price_of_product4\n",
        "print(\"total_bill = \",total_bill)\n",
        "print(\"------\")\n",
        "print(\"payable amount = \",payable_amount)\n",
        "print(\"---------------------------\")\n",
        "\n",
        "print(\"__________delivery address__________\")\n",
        "name=input(\"name = \")\n",
        "address=input(\"address_ \")\n",
        "mobile_no=int(input(\"mobile no_ \"))\n",
        "print(\"______thank_you______\")\n",
        "\n",
        "\n"
      ],
      "metadata": {
        "id": "sEcY0T7z7cfJ",
        "outputId": "97480f6c-8768-455f-bf4b-1466c45f0796",
        "colab": {
          "base_uri": "https://localhost:8080/"
        }
      },
      "execution_count": null,
      "outputs": [
        {
          "output_type": "stream",
          "name": "stdout",
          "text": [
            "product1 = smart watch\n",
            "price = 1200\n",
            "discount = 10\n",
            "1080.0\n",
            "-----------------\n",
            "product2 = laptop\n",
            "price of product2 = 38000\n",
            "discount = 10\n",
            "34200.0\n",
            "----------------\n",
            "product3 = mixer grinder\n",
            "price of product3 = 1000\n",
            "discount = 10\n",
            "900.0\n",
            "----------------\n",
            "product4 = sun glasses\n",
            "price of product4 = 850\n",
            "discount = 10\n",
            "765.0\n",
            "----------------\n",
            "total_bill =  41050\n",
            "------\n",
            "payable amount =  36945.0\n",
            "---------------------------\n",
            "__________delivery address__________\n",
            "name = anshika\n",
            "address_ chandigarh\n",
            "mobile no_ 7302080109\n",
            "______thank_you______\n"
          ]
        }
      ]
    },
    {
      "cell_type": "code",
      "source": [
        "address=input(\"address_ \")"
      ],
      "metadata": {
        "id": "bOKNegd_TPx1",
        "outputId": "f935afd7-95db-4087-a32e-2de22d61e449",
        "colab": {
          "base_uri": "https://localhost:8080/"
        }
      },
      "execution_count": null,
      "outputs": [
        {
          "name": "stdout",
          "output_type": "stream",
          "text": [
            "address_ 3345,sector21d,chandigarh\n"
          ]
        }
      ]
    },
    {
      "cell_type": "code",
      "source": [
        "item1=input(\"item1: \")\n",
        "price1=int(input(\"price: \"))\n",
        "discount1=int(input(\"discount: \"))\n",
        "discount_on_item1=price1*discount1/100\n",
        "final_price_of_item1=price1-discount_on_item1\n",
        "print(final_price_of_item1)\n",
        "print(\"--------\")\n",
        "\n",
        "item2=input(\"item2: \")\n",
        "price2=int(input(\"price: \"))\n",
        "discount2=int(input(\"discount: \"))\n",
        "discount_on_item2=price2*discount2/100\n",
        "final_price_of_item2=price2-discount_on_item2\n",
        "print(final_price_of_item2)\n",
        "print(\"--------\")\n",
        "\n",
        "total_bill=price1+price2\n",
        "total_discount=discount_on_item1+discount_on_item2\n",
        "total_bill_after_discount=final_price_of_item1+final_price_of_item2\n",
        "print(total_bill)\n",
        "print(total_discount)\n",
        "print(\"--------\")\n",
        "print(total_bill_after_discount)\n",
        "delivery_charges=int(input(\"delivery charges\"))\n",
        "payable_amount=total_bill_after_discount+delivery_charges\n",
        "print(delivery_charges)\n",
        "print(\"--------\")\n",
        "print(payable_amount)\n",
        "print(\"------------------\")\n",
        "\n",
        "print(\"________delivery address________\")\n",
        "name=input(\"name: \")\n",
        "address=input(\"address_ \")\n",
        "mobile_no=int(input(\"mobile no_ \"))\n",
        "print(\"------------\")\n",
        "\n",
        "\n",
        "\n",
        "\n"
      ],
      "metadata": {
        "id": "eGSXMpD2U5FE",
        "outputId": "54963ec6-1ab6-4a3a-c1fe-cd8187db370b",
        "colab": {
          "base_uri": "https://localhost:8080/"
        }
      },
      "execution_count": null,
      "outputs": [
        {
          "output_type": "stream",
          "name": "stdout",
          "text": [
            "item1: pizza\n",
            "price: 250\n",
            "discount: 10\n",
            "225.0\n",
            "--------\n",
            "item2: coke\n",
            "price: 80\n",
            "discount: 10\n",
            "72.0\n",
            "--------\n",
            "330\n",
            "33.0\n",
            "--------\n",
            "297.0\n",
            "delivery charges60\n",
            "60\n",
            "--------\n",
            "357.0\n",
            "------------------\n",
            "________delivery address________\n",
            "name: vaishnavi\n",
            "address_ 3345,sector21d,chandigarh\n",
            "mobile no_ 7302080109\n",
            "------------\n"
          ]
        }
      ]
    },
    {
      "cell_type": "code",
      "source": [
        "colour=input(\"colour: \")\n",
        "if colour==\"red\":\n",
        "  print(\"stop\")\n",
        "else:\n",
        "  print(\"move\")"
      ],
      "metadata": {
        "id": "3DRfpLhdh7C_",
        "outputId": "76166601-46cc-4820-cbfd-328d1d44db28",
        "colab": {
          "base_uri": "https://localhost:8080/"
        }
      },
      "execution_count": null,
      "outputs": [
        {
          "output_type": "stream",
          "name": "stdout",
          "text": [
            "colour: red\n",
            "stop\n"
          ]
        }
      ]
    },
    {
      "cell_type": "code",
      "source": [
        "colour=input(\"colour: \")\n",
        "if colour==\"yellow\" or \"blue\":\n",
        "  print(\"happy\")\n",
        "else:\n",
        "  print(\"sad\")\n",
        "print(\"--------\")\n",
        "\n",
        "colour=input(\"colour: \")\n",
        "if colour==\"green\":\n",
        "  print(\"stop\")\n",
        "elif colour==\"pink\":\n",
        "  print(\"stop\")\n",
        "else:\n",
        "  print(\"move\")\n"
      ],
      "metadata": {
        "id": "ndN8ShUZlE2z",
        "outputId": "5ed71bd9-8b2a-4237-9466-09126415d0bd",
        "colab": {
          "base_uri": "https://localhost:8080/"
        }
      },
      "execution_count": null,
      "outputs": [
        {
          "output_type": "stream",
          "name": "stdout",
          "text": [
            "colour: yellow\n",
            "happy\n",
            "--------\n",
            "colour: white\n",
            "move\n"
          ]
        }
      ]
    },
    {
      "cell_type": "code",
      "source": [
        "gender=input(\"gender= \")\n",
        "if gender==\"male\":\n",
        " print(\"monday, wednesday,friday\")\n",
        "else:\n",
        "  print(\"tuesday, thursday, saturday\")\n"
      ],
      "metadata": {
        "id": "v23vjhJ_4-ra",
        "outputId": "581efedd-6ed3-47fc-88e4-e92989d8d0de",
        "colab": {
          "base_uri": "https://localhost:8080/"
        }
      },
      "execution_count": 6,
      "outputs": [
        {
          "output_type": "stream",
          "name": "stdout",
          "text": [
            "gender= female\n",
            "tuesday, thursday, saturday\n"
          ]
        }
      ]
    },
    {
      "cell_type": "code",
      "source": [
        "gender=input(\"gender= \")\n",
        "if gender==\"male\":\n",
        "  print(\"go\")\n",
        "else:\n",
        "  print(\"come\")"
      ],
      "metadata": {
        "id": "lCDSeSFR6dT3",
        "outputId": "10829bec-833c-439b-aea6-daf884cc97e4",
        "colab": {
          "base_uri": "https://localhost:8080/"
        }
      },
      "execution_count": 8,
      "outputs": [
        {
          "output_type": "stream",
          "name": "stdout",
          "text": [
            "gender= female\n",
            "come\n"
          ]
        }
      ]
    },
    {
      "cell_type": "code",
      "source": [
        "principal_amount=int(input(\"principal amount\"))\n",
        "rate=int(input(\"rate\"))\n",
        "time=int(input(\"time\"))\n",
        "amount=(principal_amount*rate*time)/100\n",
        "print(amount)"
      ],
      "metadata": {
        "id": "A34TP1VQ9mND",
        "outputId": "212196c1-526c-4ec1-9830-2e8e234f32d7",
        "colab": {
          "base_uri": "https://localhost:8080/"
        }
      },
      "execution_count": 11,
      "outputs": [
        {
          "output_type": "stream",
          "name": "stdout",
          "text": [
            "principal amount500\n",
            "rate4\n",
            "time5\n",
            "100.0\n"
          ]
        }
      ]
    },
    {
      "cell_type": "code",
      "source": [
        "principal=int(input(\"principal: \"))\n",
        "rate=int(input(\"rate: \"))\n",
        "month=int(input(\"month: \"))\n",
        "time_in_days=int(input(\"time in days\"))\n",
        "time_in_month=(time_in_days/30)\n",
        "amount=principal*rate*time/100\n",
        "si=principal*rate*time*time_in_month/100\n",
        "print(amount)\n",
        "print(si)\n",
        "print(amount+si)\n",
        "\n",
        "\n"
      ],
      "metadata": {
        "id": "xiQ2LlCMAB4S",
        "outputId": "c066f355-7332-4d56-931e-98740fbc2ce0",
        "colab": {
          "base_uri": "https://localhost:8080/"
        }
      },
      "execution_count": 20,
      "outputs": [
        {
          "output_type": "stream",
          "name": "stdout",
          "text": [
            "principal: 500\n",
            "rate: 4\n",
            "month: 5\n",
            "time in days5\n",
            "100.0\n",
            "16.666666666666664\n",
            "116.66666666666666\n"
          ]
        }
      ]
    }
  ]
}