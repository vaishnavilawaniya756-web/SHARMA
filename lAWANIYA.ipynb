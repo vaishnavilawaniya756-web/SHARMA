{
  "nbformat": 4,
  "nbformat_minor": 0,
  "metadata": {
    "colab": {
      "provenance": [],
      "authorship_tag": "ABX9TyNejM7fuXKBfSv2C+4kJleY",
      "include_colab_link": true
    },
    "kernelspec": {
      "name": "python3",
      "display_name": "Python 3"
    },
    "language_info": {
      "name": "python"
    }
  },
  "cells": [
    {
      "cell_type": "markdown",
      "metadata": {
        "id": "view-in-github",
        "colab_type": "text"
      },
      "source": [
        "<a href=\"https://colab.research.google.com/github/vaishnavilawaniya756-web/SHARMA/blob/main/lAWANIYA.ipynb\" target=\"_parent\"><img src=\"https://colab.research.google.com/assets/colab-badge.svg\" alt=\"Open In Colab\"/></a>"
      ]
    },
    {
      "cell_type": "code",
      "execution_count": null,
      "metadata": {
        "colab": {
          "base_uri": "https://localhost:8080/"
        },
        "id": "fTjQFk-_IMSu",
        "outputId": "81585f41-ef7b-4c10-a0f8-2fc1f6e8bcf0"
      },
      "outputs": [
        {
          "output_type": "stream",
          "name": "stdout",
          "text": [
            "30\n"
          ]
        }
      ],
      "source": [
        "first_number=10\n",
        "second_number=20\n",
        "print(first_number+second_number)"
      ]
    },
    {
      "cell_type": "code",
      "source": [
        "a=500\n",
        "b=100\n",
        "sum=a+b\n",
        "print(\"sum =\",sum)\n",
        "sub=a-b\n",
        "print(\"sub =\",sub)\n",
        "multiply=a*b\n",
        "print(\"multiply =\",multiply)\n",
        "divide=a/b\n",
        "print(\"divide =\",divide)"
      ],
      "metadata": {
        "colab": {
          "base_uri": "https://localhost:8080/"
        },
        "id": "b83fju0FKSj5",
        "outputId": "67ee9fbc-3d75-4d4e-df6f-d4e137e17792"
      },
      "execution_count": 32,
      "outputs": [
        {
          "output_type": "stream",
          "name": "stdout",
          "text": [
            "sum = 600\n",
            "sub = 400\n",
            "multiply = 50000\n",
            "divide = 5.0\n"
          ]
        }
      ]
    },
    {
      "cell_type": "code",
      "source": [
        "#restaurant billing project\n",
        "item1=\"pizza\"\n",
        "price_of_item1=500\n",
        "dis_on_pizza=10\n",
        "dis_pizza=price_of_item1*dis_on_pizza/100\n",
        "amount_of_pizza=price_of_item1-dis_pizza\n",
        "item2=\"burger\"\n",
        "price_of_item2=100\n",
        "dis_on_burger=10\n",
        "dis_burger=price_of_item2*dis_on_burger/100\n",
        "amount_of_burger=price_of_item2-dis_burger\n",
        "item3=\"coke\"\n",
        "price_of_item3=80\n",
        "dis_on_coke=10\n",
        "dis_coke=price_of_item3*dis_on_coke/100\n",
        "amount_of_coke=price_of_item3-dis_coke\n",
        "item4=\"cold_coffee\"\n",
        "price_of_item4=200\n",
        "dis_on_cold_coffee=10\n",
        "dis_cold_coffee=price_of_item4*dis_on_cold_coffee/100\n",
        "amount_of_cold_coffee=price_of_item4-dis_cold_coffee\n",
        "item5=\"fries\"\n",
        "price_of_item5=120\n",
        "dis_on_fries=10\n",
        "dis_fries=price_of_item5*dis_on_fries/100\n",
        "amount_of_fries=price_of_item5-dis_fries\n",
        "\n",
        "total_bill=(price_of_item1+price_of_item2+price_of_item3+price_of_item4+price_of_item5)\n",
        "discount=10\n",
        "total_dis=total_bill*discount/100\n",
        "payble_bill=total_bill-total_dis\n",
        "\n",
        "print(\".........cool cafe........\")\n",
        "print(\"...receipt...\")\n",
        "print(item1,\"=\",price_of_item1)\n",
        "print(\"dis_pizza =\",dis_pizza)\n",
        "print(\"amount_of_pizza :\",amount_of_pizza)\n",
        "print(\".....\")\n",
        "print(item2,\"=\",price_of_item2)\n",
        "print(\"dis_burger =\",dis_burger)\n",
        "print(\"amount_of_burger :\",amount_of_burger)\n",
        "print(\".....\")\n",
        "print(item3,\"=\",price_of_item3)\n",
        "print(\"dis_coke =\",dis_coke)\n",
        "print(\"amount_of_coke :\",amount_of_coke)\n",
        "print(\".....\")\n",
        "print(item4,\"=\",price_of_item4)\n",
        "print(\"dis_cold_coffee =\",dis_cold_coffee)\n",
        "print(\"amount_of_cold_coffee :\",amount_of_cold_coffee)\n",
        "print(\".....\")\n",
        "print(item5,\"=\",price_of_item5)\n",
        "print(\"dis_fries =\",dis_fries)\n",
        "print(\"amount_of_fries :\",amount_of_fries)\n",
        "print(\"......\")\n",
        "print(\"total_bill\",total_bill)\n",
        "print(\"total dis\",total_dis)\n",
        "print(\".......\")\n",
        "print(\"payble_bill\",payble_bill)\n"
      ],
      "metadata": {
        "colab": {
          "base_uri": "https://localhost:8080/"
        },
        "id": "NiHEtN47LqGa",
        "outputId": "0dc0eb4d-84f1-46c0-ed44-2aae6d8a9613"
      },
      "execution_count": 31,
      "outputs": [
        {
          "output_type": "stream",
          "name": "stdout",
          "text": [
            ".........cool cafe........\n",
            "...receipt...\n",
            "pizza = 500\n",
            "dis_pizza = 50.0\n",
            "amount_of_pizza : 450.0\n",
            ".....\n",
            "burger = 100\n",
            "dis_burger = 10.0\n",
            "amount_of_burger : 90.0\n",
            ".....\n",
            "coke = 80\n",
            "dis_coke = 8.0\n",
            "amount_of_coke : 72.0\n",
            ".....\n",
            "cold_coffee = 200\n",
            "dis_cold_coffee = 20.0\n",
            "amount_of_cold_coffee : 180.0\n",
            ".....\n",
            "fries = 120\n",
            "dis_fries = 12.0\n",
            "amount_of_fries : 108.0\n",
            "......\n",
            "total_bill 1000\n",
            "total dis 100.0\n",
            ".......\n",
            "payble_bill 900.0\n"
          ]
        }
      ]
    },
    {
      "cell_type": "code",
      "source": [
        "\n"
      ],
      "metadata": {
        "id": "MpyzKZnAM9CZ"
      },
      "execution_count": 2,
      "outputs": []
    }
  ]
}