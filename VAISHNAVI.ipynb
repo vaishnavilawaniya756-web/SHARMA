{
  "nbformat": 4,
  "nbformat_minor": 0,
  "metadata": {
    "colab": {
      "provenance": [],
      "authorship_tag": "ABX9TyPtwm9pPmKB7NeE8rUdvaV9",
      "include_colab_link": true
    },
    "kernelspec": {
      "name": "python3",
      "display_name": "Python 3"
    },
    "language_info": {
      "name": "python"
    }
  },
  "cells": [
    {
      "cell_type": "markdown",
      "metadata": {
        "id": "view-in-github",
        "colab_type": "text"
      },
      "source": [
        "<a href=\"https://colab.research.google.com/github/vaishnavilawaniya756-web/SHARMA/blob/main/VAISHNAVI.ipynb\" target=\"_parent\"><img src=\"https://colab.research.google.com/assets/colab-badge.svg\" alt=\"Open In Colab\"/></a>"
      ]
    },
    {
      "cell_type": "code",
      "execution_count": 2,
      "metadata": {
        "colab": {
          "base_uri": "https://localhost:8080/"
        },
        "id": "mK5nNaNZ-7g7",
        "outputId": "8d4080d5-7af3-4426-94a8-751f1635737d"
      },
      "outputs": [
        {
          "output_type": "stream",
          "name": "stdout",
          "text": [
            "HELLO,MY NAME IS VAISHNAVI\n"
          ]
        }
      ],
      "source": [
        "print(\"HELLO,MY NAME IS VAISHNAVI\")"
      ]
    },
    {
      "cell_type": "code",
      "source": [
        "# i am vaishnavi sharma forming biodata project\n",
        "print(\"name:  vaishnavi sharma\")\n",
        "print(\"mobile no:  7302080109\")\n",
        "print(\"nationality: indian\")\n",
        "print(\"qualification: m.com\")\n",
        "print(\"father name: sanjay sharma\")\n",
        "print(\"mother name: priyanka sharma\")\n",
        "print(\"skill: pursuing data analytics\")\n",
        "print(\"hobbies: singing and calligaphy\")"
      ],
      "metadata": {
        "id": "t0goxTWTFYOj",
        "outputId": "2c33fe16-c430-4d56-d39b-a6a4747ff446",
        "colab": {
          "base_uri": "https://localhost:8080/"
        }
      },
      "execution_count": 5,
      "outputs": [
        {
          "output_type": "stream",
          "name": "stdout",
          "text": [
            "name:  vaishnavi sharma\n",
            "mobile no:  7302080109\n",
            "nationality: indian\n",
            "qualification: m.com\n",
            "father name: sanjay sharma\n",
            "mother name: priyanka sharma\n",
            "skill: pursuing data analytics\n",
            "hobbies: singing and calligaphy\n"
          ]
        }
      ]
    },
    {
      "cell_type": "code",
      "source": [
        "name=\"vaishnavi\"\n",
        "print(\"name\", name)"
      ],
      "metadata": {
        "id": "6GT-Ar0GKYfh",
        "outputId": "0f2bb089-ae14-4224-946f-27a2cd1580b8",
        "colab": {
          "base_uri": "https://localhost:8080/"
        }
      },
      "execution_count": 6,
      "outputs": [
        {
          "output_type": "stream",
          "name": "stdout",
          "text": [
            "name vaishnavi\n"
          ]
        }
      ]
    },
    {
      "cell_type": "code",
      "source": [
        "mobileno=\"7302080109\"\n",
        "print(\"mobileno\",mobileno)"
      ],
      "metadata": {
        "id": "HDc67W9rLO4G",
        "outputId": "13b7ba25-409b-4a87-b41e-e16eff94095c",
        "colab": {
          "base_uri": "https://localhost:8080/"
        }
      },
      "execution_count": 8,
      "outputs": [
        {
          "output_type": "stream",
          "name": "stdout",
          "text": [
            "mobileno 7302080109\n"
          ]
        }
      ]
    }
  ]
}